{
 "cells": [
  {
   "cell_type": "code",
   "execution_count": 1,
   "id": "34be73f9",
   "metadata": {},
   "outputs": [
    {
     "name": "stdout",
     "output_type": "stream",
     "text": [
      "Requirement already satisfied: lightgbm in c:\\users\\rayya\\anaconda3\\lib\\site-packages (4.1.0)\n",
      "Requirement already satisfied: numpy in c:\\users\\rayya\\anaconda3\\lib\\site-packages (from lightgbm) (1.24.3)\n",
      "Requirement already satisfied: scipy in c:\\users\\rayya\\anaconda3\\lib\\site-packages (from lightgbm) (1.11.1)\n"
     ]
    }
   ],
   "source": [
    "# The Anaconda's Navigator comes installed with some of the necessary library packages.\n",
    "# However,as per our use, we needed to download some extra python libraries,\n",
    "# to increase the productivity and efficiency of our code.\n",
    "# Some of these libraries installing commands are first seen executing.\n",
    "# Then the actual code, For our project starts ;)\n",
    "\n",
    "\n",
    "#LightGBM is a gradient boosting framework,\n",
    "#that is used for various machine learning tasks,\n",
    "#particularly in the field of data science and analytics.\n",
    "\n",
    "!pip install lightgbm"
   ]
  },
  {
   "cell_type": "code",
   "execution_count": 2,
   "id": "b3861f4f",
   "metadata": {},
   "outputs": [
    {
     "name": "stdout",
     "output_type": "stream",
     "text": [
      "Requirement already satisfied: xgboost in c:\\users\\rayya\\anaconda3\\lib\\site-packages (2.0.0)\n",
      "Requirement already satisfied: numpy in c:\\users\\rayya\\anaconda3\\lib\\site-packages (from xgboost) (1.24.3)\n",
      "Requirement already satisfied: scipy in c:\\users\\rayya\\anaconda3\\lib\\site-packages (from xgboost) (1.11.1)\n"
     ]
    }
   ],
   "source": [
    "# XGBoost is a popular machine learning algorithm that is often used for,\n",
    "# High Performance, Scalability, Regularization and it's easy implementation. \n",
    "\n",
    "!pip install xgboost"
   ]
  },
  {
   "cell_type": "code",
   "execution_count": 3,
   "id": "6de47219",
   "metadata": {},
   "outputs": [
    {
     "name": "stdout",
     "output_type": "stream",
     "text": [
      "Requirement already satisfied: plotly in c:\\users\\rayya\\anaconda3\\lib\\site-packages (5.9.0)\n",
      "Requirement already satisfied: tenacity>=6.2.0 in c:\\users\\rayya\\anaconda3\\lib\\site-packages (from plotly) (8.2.2)\n"
     ]
    }
   ],
   "source": [
    "# Plotly is a popular data visualization library that is commonly used for,\n",
    "# Interactive Visualisation, Chart Types and many more.\n",
    "\n",
    "!pip install plotly"
   ]
  },
  {
   "cell_type": "code",
   "execution_count": 4,
   "id": "5d42177e",
   "metadata": {},
   "outputs": [
    {
     "name": "stdout",
     "output_type": "stream",
     "text": [
      "Requirement already satisfied: chart-studio in c:\\users\\rayya\\anaconda3\\lib\\site-packages (1.1.0)\n",
      "Requirement already satisfied: plotly in c:\\users\\rayya\\anaconda3\\lib\\site-packages (from chart-studio) (5.9.0)\n",
      "Requirement already satisfied: requests in c:\\users\\rayya\\anaconda3\\lib\\site-packages (from chart-studio) (2.31.0)\n",
      "Requirement already satisfied: retrying>=1.3.3 in c:\\users\\rayya\\anaconda3\\lib\\site-packages (from chart-studio) (1.3.4)\n",
      "Requirement already satisfied: six in c:\\users\\rayya\\anaconda3\\lib\\site-packages (from chart-studio) (1.16.0)\n",
      "Requirement already satisfied: tenacity>=6.2.0 in c:\\users\\rayya\\anaconda3\\lib\\site-packages (from plotly->chart-studio) (8.2.2)\n",
      "Requirement already satisfied: charset-normalizer<4,>=2 in c:\\users\\rayya\\anaconda3\\lib\\site-packages (from requests->chart-studio) (2.0.4)\n",
      "Requirement already satisfied: idna<4,>=2.5 in c:\\users\\rayya\\anaconda3\\lib\\site-packages (from requests->chart-studio) (3.4)\n",
      "Requirement already satisfied: urllib3<3,>=1.21.1 in c:\\users\\rayya\\anaconda3\\lib\\site-packages (from requests->chart-studio) (1.26.16)\n",
      "Requirement already satisfied: certifi>=2017.4.17 in c:\\users\\rayya\\anaconda3\\lib\\site-packages (from requests->chart-studio) (2023.7.22)\n"
     ]
    }
   ],
   "source": [
    "# Chart Studio, also known as Plotly Chart Studio, is a web-based platform for\n",
    "# creating and sharing interactive data visualizations. \n",
    "\n",
    "!pip install chart-studio"
   ]
  },
  {
   "cell_type": "code",
   "execution_count": 5,
   "id": "7c078f68",
   "metadata": {},
   "outputs": [
    {
     "name": "stdout",
     "output_type": "stream",
     "text": [
      "Requirement already satisfied: bubbly in c:\\users\\rayya\\anaconda3\\lib\\site-packages (1.0.2)\n",
      "Requirement already satisfied: plotly in c:\\users\\rayya\\anaconda3\\lib\\site-packages (from bubbly) (5.9.0)\n",
      "Requirement already satisfied: pandas in c:\\users\\rayya\\anaconda3\\lib\\site-packages (from bubbly) (2.0.3)\n",
      "Requirement already satisfied: python-dateutil>=2.8.2 in c:\\users\\rayya\\anaconda3\\lib\\site-packages (from pandas->bubbly) (2.8.2)\n",
      "Requirement already satisfied: pytz>=2020.1 in c:\\users\\rayya\\anaconda3\\lib\\site-packages (from pandas->bubbly) (2023.3.post1)\n",
      "Requirement already satisfied: tzdata>=2022.1 in c:\\users\\rayya\\anaconda3\\lib\\site-packages (from pandas->bubbly) (2023.3)\n",
      "Requirement already satisfied: numpy>=1.21.0 in c:\\users\\rayya\\anaconda3\\lib\\site-packages (from pandas->bubbly) (1.24.3)\n",
      "Requirement already satisfied: tenacity>=6.2.0 in c:\\users\\rayya\\anaconda3\\lib\\site-packages (from plotly->bubbly) (8.2.2)\n",
      "Requirement already satisfied: six>=1.5 in c:\\users\\rayya\\anaconda3\\lib\\site-packages (from python-dateutil>=2.8.2->pandas->bubbly) (1.16.0)\n"
     ]
    }
   ],
   "source": [
    "# Bubbly is an abbreviation of bubbles in Jupyter Notebook.\n",
    "# They are mostly used to create bubble charts.\n",
    "\n",
    "!pip install bubbly"
   ]
  },
  {
   "cell_type": "code",
   "execution_count": 6,
   "id": "396bf5e1",
   "metadata": {},
   "outputs": [
    {
     "name": "stdout",
     "output_type": "stream",
     "text": [
      "Requirement already satisfied: tensorflow in c:\\users\\rayya\\anaconda3\\lib\\site-packages (2.14.0)\n",
      "Requirement already satisfied: tensorflow-intel==2.14.0 in c:\\users\\rayya\\anaconda3\\lib\\site-packages (from tensorflow) (2.14.0)\n",
      "Requirement already satisfied: absl-py>=1.0.0 in c:\\users\\rayya\\anaconda3\\lib\\site-packages (from tensorflow-intel==2.14.0->tensorflow) (2.0.0)\n",
      "Requirement already satisfied: astunparse>=1.6.0 in c:\\users\\rayya\\anaconda3\\lib\\site-packages (from tensorflow-intel==2.14.0->tensorflow) (1.6.3)\n",
      "Requirement already satisfied: flatbuffers>=23.5.26 in c:\\users\\rayya\\anaconda3\\lib\\site-packages (from tensorflow-intel==2.14.0->tensorflow) (23.5.26)\n",
      "Requirement already satisfied: gast!=0.5.0,!=0.5.1,!=0.5.2,>=0.2.1 in c:\\users\\rayya\\anaconda3\\lib\\site-packages (from tensorflow-intel==2.14.0->tensorflow) (0.5.4)\n",
      "Requirement already satisfied: google-pasta>=0.1.1 in c:\\users\\rayya\\anaconda3\\lib\\site-packages (from tensorflow-intel==2.14.0->tensorflow) (0.2.0)\n",
      "Requirement already satisfied: h5py>=2.9.0 in c:\\users\\rayya\\anaconda3\\lib\\site-packages (from tensorflow-intel==2.14.0->tensorflow) (3.9.0)\n",
      "Requirement already satisfied: libclang>=13.0.0 in c:\\users\\rayya\\anaconda3\\lib\\site-packages (from tensorflow-intel==2.14.0->tensorflow) (16.0.6)\n",
      "Requirement already satisfied: ml-dtypes==0.2.0 in c:\\users\\rayya\\anaconda3\\lib\\site-packages (from tensorflow-intel==2.14.0->tensorflow) (0.2.0)\n",
      "Requirement already satisfied: numpy>=1.23.5 in c:\\users\\rayya\\anaconda3\\lib\\site-packages (from tensorflow-intel==2.14.0->tensorflow) (1.24.3)\n",
      "Requirement already satisfied: opt-einsum>=2.3.2 in c:\\users\\rayya\\anaconda3\\lib\\site-packages (from tensorflow-intel==2.14.0->tensorflow) (3.3.0)\n",
      "Requirement already satisfied: packaging in c:\\users\\rayya\\anaconda3\\lib\\site-packages (from tensorflow-intel==2.14.0->tensorflow) (23.1)\n",
      "Requirement already satisfied: protobuf!=4.21.0,!=4.21.1,!=4.21.2,!=4.21.3,!=4.21.4,!=4.21.5,<5.0.0dev,>=3.20.3 in c:\\users\\rayya\\anaconda3\\lib\\site-packages (from tensorflow-intel==2.14.0->tensorflow) (4.24.4)\n",
      "Requirement already satisfied: setuptools in c:\\users\\rayya\\anaconda3\\lib\\site-packages (from tensorflow-intel==2.14.0->tensorflow) (68.0.0)\n",
      "Requirement already satisfied: six>=1.12.0 in c:\\users\\rayya\\anaconda3\\lib\\site-packages (from tensorflow-intel==2.14.0->tensorflow) (1.16.0)\n",
      "Requirement already satisfied: termcolor>=1.1.0 in c:\\users\\rayya\\anaconda3\\lib\\site-packages (from tensorflow-intel==2.14.0->tensorflow) (2.3.0)\n",
      "Requirement already satisfied: typing-extensions>=3.6.6 in c:\\users\\rayya\\anaconda3\\lib\\site-packages (from tensorflow-intel==2.14.0->tensorflow) (4.7.1)\n",
      "Requirement already satisfied: wrapt<1.15,>=1.11.0 in c:\\users\\rayya\\anaconda3\\lib\\site-packages (from tensorflow-intel==2.14.0->tensorflow) (1.14.1)\n",
      "Requirement already satisfied: tensorflow-io-gcs-filesystem>=0.23.1 in c:\\users\\rayya\\anaconda3\\lib\\site-packages (from tensorflow-intel==2.14.0->tensorflow) (0.31.0)\n",
      "Requirement already satisfied: grpcio<2.0,>=1.24.3 in c:\\users\\rayya\\anaconda3\\lib\\site-packages (from tensorflow-intel==2.14.0->tensorflow) (1.59.0)\n",
      "Requirement already satisfied: tensorboard<2.15,>=2.14 in c:\\users\\rayya\\anaconda3\\lib\\site-packages (from tensorflow-intel==2.14.0->tensorflow) (2.14.1)\n",
      "Requirement already satisfied: tensorflow-estimator<2.15,>=2.14.0 in c:\\users\\rayya\\anaconda3\\lib\\site-packages (from tensorflow-intel==2.14.0->tensorflow) (2.14.0)\n",
      "Requirement already satisfied: keras<2.15,>=2.14.0 in c:\\users\\rayya\\anaconda3\\lib\\site-packages (from tensorflow-intel==2.14.0->tensorflow) (2.14.0)\n",
      "Requirement already satisfied: wheel<1.0,>=0.23.0 in c:\\users\\rayya\\anaconda3\\lib\\site-packages (from astunparse>=1.6.0->tensorflow-intel==2.14.0->tensorflow) (0.38.4)\n",
      "Requirement already satisfied: google-auth<3,>=1.6.3 in c:\\users\\rayya\\anaconda3\\lib\\site-packages (from tensorboard<2.15,>=2.14->tensorflow-intel==2.14.0->tensorflow) (2.23.2)\n",
      "Requirement already satisfied: google-auth-oauthlib<1.1,>=0.5 in c:\\users\\rayya\\anaconda3\\lib\\site-packages (from tensorboard<2.15,>=2.14->tensorflow-intel==2.14.0->tensorflow) (1.0.0)\n",
      "Requirement already satisfied: markdown>=2.6.8 in c:\\users\\rayya\\anaconda3\\lib\\site-packages (from tensorboard<2.15,>=2.14->tensorflow-intel==2.14.0->tensorflow) (3.4.1)\n",
      "Requirement already satisfied: requests<3,>=2.21.0 in c:\\users\\rayya\\anaconda3\\lib\\site-packages (from tensorboard<2.15,>=2.14->tensorflow-intel==2.14.0->tensorflow) (2.31.0)\n",
      "Requirement already satisfied: tensorboard-data-server<0.8.0,>=0.7.0 in c:\\users\\rayya\\anaconda3\\lib\\site-packages (from tensorboard<2.15,>=2.14->tensorflow-intel==2.14.0->tensorflow) (0.7.1)\n",
      "Requirement already satisfied: werkzeug>=1.0.1 in c:\\users\\rayya\\anaconda3\\lib\\site-packages (from tensorboard<2.15,>=2.14->tensorflow-intel==2.14.0->tensorflow) (2.2.3)\n",
      "Requirement already satisfied: cachetools<6.0,>=2.0.0 in c:\\users\\rayya\\anaconda3\\lib\\site-packages (from google-auth<3,>=1.6.3->tensorboard<2.15,>=2.14->tensorflow-intel==2.14.0->tensorflow) (5.3.1)\n",
      "Requirement already satisfied: pyasn1-modules>=0.2.1 in c:\\users\\rayya\\anaconda3\\lib\\site-packages (from google-auth<3,>=1.6.3->tensorboard<2.15,>=2.14->tensorflow-intel==2.14.0->tensorflow) (0.2.8)\n",
      "Requirement already satisfied: rsa<5,>=3.1.4 in c:\\users\\rayya\\anaconda3\\lib\\site-packages (from google-auth<3,>=1.6.3->tensorboard<2.15,>=2.14->tensorflow-intel==2.14.0->tensorflow) (4.9)\n",
      "Requirement already satisfied: requests-oauthlib>=0.7.0 in c:\\users\\rayya\\anaconda3\\lib\\site-packages (from google-auth-oauthlib<1.1,>=0.5->tensorboard<2.15,>=2.14->tensorflow-intel==2.14.0->tensorflow) (1.3.1)\n",
      "Requirement already satisfied: charset-normalizer<4,>=2 in c:\\users\\rayya\\anaconda3\\lib\\site-packages (from requests<3,>=2.21.0->tensorboard<2.15,>=2.14->tensorflow-intel==2.14.0->tensorflow) (2.0.4)\n",
      "Requirement already satisfied: idna<4,>=2.5 in c:\\users\\rayya\\anaconda3\\lib\\site-packages (from requests<3,>=2.21.0->tensorboard<2.15,>=2.14->tensorflow-intel==2.14.0->tensorflow) (3.4)\n",
      "Requirement already satisfied: urllib3<3,>=1.21.1 in c:\\users\\rayya\\anaconda3\\lib\\site-packages (from requests<3,>=2.21.0->tensorboard<2.15,>=2.14->tensorflow-intel==2.14.0->tensorflow) (1.26.16)\n",
      "Requirement already satisfied: certifi>=2017.4.17 in c:\\users\\rayya\\anaconda3\\lib\\site-packages (from requests<3,>=2.21.0->tensorboard<2.15,>=2.14->tensorflow-intel==2.14.0->tensorflow) (2023.7.22)\n",
      "Requirement already satisfied: MarkupSafe>=2.1.1 in c:\\users\\rayya\\anaconda3\\lib\\site-packages (from werkzeug>=1.0.1->tensorboard<2.15,>=2.14->tensorflow-intel==2.14.0->tensorflow) (2.1.1)\n",
      "Requirement already satisfied: pyasn1<0.5.0,>=0.4.6 in c:\\users\\rayya\\anaconda3\\lib\\site-packages (from pyasn1-modules>=0.2.1->google-auth<3,>=1.6.3->tensorboard<2.15,>=2.14->tensorflow-intel==2.14.0->tensorflow) (0.4.8)\n",
      "Requirement already satisfied: oauthlib>=3.0.0 in c:\\users\\rayya\\anaconda3\\lib\\site-packages (from requests-oauthlib>=0.7.0->google-auth-oauthlib<1.1,>=0.5->tensorboard<2.15,>=2.14->tensorflow-intel==2.14.0->tensorflow) (3.2.2)\n"
     ]
    }
   ],
   "source": [
    "# TensorFlow is a popular open-source machine learning framework developed by Google\n",
    "# for various machine learning and deep learning tasks.\n",
    "\n",
    "!pip install tensorflow"
   ]
  },
  {
   "cell_type": "code",
   "execution_count": 7,
   "id": "609218b3",
   "metadata": {},
   "outputs": [
    {
     "name": "stdout",
     "output_type": "stream",
     "text": [
      "['20140711.CSV', 'archive.zip', 'output_geo.csv', 'Public Transport Boarding Summary by Route, Trip, Stop and Week of Year.doc', 'route.csv', 'st_week_grp.csv', 'Weekly_Boarding.csv']\n"
     ]
    }
   ],
   "source": [
    "# Our code Starts from this input. Here we have Performed Data Cleansing and Data Preprocessing on the \n",
    "# Two Dataset that we were given from KAGGLE.\n",
    "\n",
    "# %matplotlib inline: This magic command in Jupyter enables inline plotting of Matplotlib graphs in the notebook.\n",
    "%matplotlib inline\n",
    "\n",
    "# Import necessary libraries for data analysis and visualization.\n",
    "import numpy as np  # Import NumPy for numerical computations.\n",
    "import pandas as pd  # Import Pandas for data processing and handling.\n",
    "import matplotlib.pyplot as plt  # Import Matplotlib for data visualization.\n",
    "\n",
    "# Import datetime library for handling date and time data.\n",
    "import datetime\n",
    "\n",
    "# Import the os library to interact with the operating system.\n",
    "import os\n",
    "\n",
    "# Import libraries for data preprocessing.\n",
    "from sklearn.preprocessing import LabelEncoder  # Used for encoding categorical variables.\n",
    "from sklearn.preprocessing import MinMaxScaler  # Used for feature scaling.\n",
    "\n",
    "# Import machine learning libraries for modeling.\n",
    "import lightgbm as lgb  # LightGBM is a gradient boosting framework.\n",
    "import xgboost as xgb  # XGBoost is another gradient boosting library.\n",
    "\n",
    "# Import library for evaluating machine learning models.\n",
    "from sklearn.metrics import mean_squared_error\n",
    "\n",
    "# Import the math library for mathematical operations.\n",
    "from math import sqrt\n",
    "\n",
    "# Suppress warning messages to keep the output cleaner.\n",
    "import warnings\n",
    "warnings.filterwarnings('ignore')\n",
    "\n",
    "# Print the list of files and directories in the specified directory.\n",
    "print(os.listdir(\"C:\\\\Users\\\\rayya\\\\OneDrive\\\\Desktop\\\\IBM Project\"))"
   ]
  },
  {
   "cell_type": "code",
   "execution_count": 8,
   "id": "c9c3cf8f",
   "metadata": {},
   "outputs": [
    {
     "name": "stdout",
     "output_type": "stream",
     "text": [
      "C:\\Users\\rayya\\OneDrive\\Desktop\\IBM Project\\20140711.CSV\n",
      "C:\\Users\\rayya\\OneDrive\\Desktop\\IBM Project\\archive.zip\n",
      "C:\\Users\\rayya\\OneDrive\\Desktop\\IBM Project\\output_geo.csv\n",
      "C:\\Users\\rayya\\OneDrive\\Desktop\\IBM Project\\Public Transport Boarding Summary by Route, Trip, Stop and Week of Year.doc\n",
      "C:\\Users\\rayya\\OneDrive\\Desktop\\IBM Project\\route.csv\n",
      "C:\\Users\\rayya\\OneDrive\\Desktop\\IBM Project\\st_week_grp.csv\n",
      "C:\\Users\\rayya\\OneDrive\\Desktop\\IBM Project\\Weekly_Boarding.csv\n"
     ]
    }
   ],
   "source": [
    "# Import the 'numpy' library and give it the alias 'np' for easier reference.\n",
    "import numpy as np\n",
    "\n",
    "# Import the 'pandas' library and give it the alias 'pd' for easier reference.\n",
    "import pandas as pd\n",
    "\n",
    "# Import the 'os' library for operating system-related functions.\n",
    "# This will be used to traverse the directory structure.\n",
    "import os\n",
    "\n",
    "# Iterate through the directory and its subdirectories using 'os.walk'.\n",
    "for dirname, _, filenames in os.walk(\"C:\\\\Users\\\\rayya\\\\OneDrive\\\\Desktop\\\\IBM Project\"):\n",
    "    # Loop through the list of filenames in the current directory.\n",
    "    for filename in filenames:\n",
    "        # Print the full path of each file in the directory.\n",
    "        print(os.path.join(dirname, filename))"
   ]
  },
  {
   "cell_type": "code",
   "execution_count": 9,
   "id": "8d7319f5",
   "metadata": {},
   "outputs": [
    {
     "name": "stdout",
     "output_type": "stream",
     "text": [
      "Load the dataset\n"
     ]
    },
    {
     "data": {
      "text/html": [
       "<div>\n",
       "<style scoped>\n",
       "    .dataframe tbody tr th:only-of-type {\n",
       "        vertical-align: middle;\n",
       "    }\n",
       "\n",
       "    .dataframe tbody tr th {\n",
       "        vertical-align: top;\n",
       "    }\n",
       "\n",
       "    .dataframe thead th {\n",
       "        text-align: right;\n",
       "    }\n",
       "</style>\n",
       "<table border=\"1\" class=\"dataframe\">\n",
       "  <thead>\n",
       "    <tr style=\"text-align: right;\">\n",
       "      <th></th>\n",
       "      <th>TripID</th>\n",
       "      <th>RouteID</th>\n",
       "      <th>StopID</th>\n",
       "      <th>StopName</th>\n",
       "      <th>WeekBeginning</th>\n",
       "      <th>NumberOfBoardings</th>\n",
       "    </tr>\n",
       "  </thead>\n",
       "  <tbody>\n",
       "    <tr>\n",
       "      <th>0</th>\n",
       "      <td>23631</td>\n",
       "      <td>100</td>\n",
       "      <td>14156</td>\n",
       "      <td>181 Cross Rd</td>\n",
       "      <td>30-06-2013</td>\n",
       "      <td>1</td>\n",
       "    </tr>\n",
       "    <tr>\n",
       "      <th>1</th>\n",
       "      <td>23631</td>\n",
       "      <td>100</td>\n",
       "      <td>14144</td>\n",
       "      <td>177 Cross Rd</td>\n",
       "      <td>30-06-2013</td>\n",
       "      <td>1</td>\n",
       "    </tr>\n",
       "    <tr>\n",
       "      <th>2</th>\n",
       "      <td>23632</td>\n",
       "      <td>100</td>\n",
       "      <td>14132</td>\n",
       "      <td>175 Cross Rd</td>\n",
       "      <td>30-06-2013</td>\n",
       "      <td>1</td>\n",
       "    </tr>\n",
       "    <tr>\n",
       "      <th>3</th>\n",
       "      <td>23633</td>\n",
       "      <td>100</td>\n",
       "      <td>12266</td>\n",
       "      <td>Zone A Arndale Interchange</td>\n",
       "      <td>30-06-2013</td>\n",
       "      <td>2</td>\n",
       "    </tr>\n",
       "    <tr>\n",
       "      <th>4</th>\n",
       "      <td>23633</td>\n",
       "      <td>100</td>\n",
       "      <td>14147</td>\n",
       "      <td>178 Cross Rd</td>\n",
       "      <td>30-06-2013</td>\n",
       "      <td>1</td>\n",
       "    </tr>\n",
       "    <tr>\n",
       "      <th>5</th>\n",
       "      <td>23634</td>\n",
       "      <td>100</td>\n",
       "      <td>13907</td>\n",
       "      <td>9A  Marion Rd</td>\n",
       "      <td>30-06-2013</td>\n",
       "      <td>1</td>\n",
       "    </tr>\n",
       "    <tr>\n",
       "      <th>6</th>\n",
       "      <td>23634</td>\n",
       "      <td>100</td>\n",
       "      <td>14132</td>\n",
       "      <td>175 Cross Rd</td>\n",
       "      <td>30-06-2013</td>\n",
       "      <td>1</td>\n",
       "    </tr>\n",
       "    <tr>\n",
       "      <th>7</th>\n",
       "      <td>23634</td>\n",
       "      <td>100</td>\n",
       "      <td>13335</td>\n",
       "      <td>9A  Holbrooks Rd</td>\n",
       "      <td>30-06-2013</td>\n",
       "      <td>1</td>\n",
       "    </tr>\n",
       "    <tr>\n",
       "      <th>8</th>\n",
       "      <td>23634</td>\n",
       "      <td>100</td>\n",
       "      <td>13875</td>\n",
       "      <td>9  Marion Rd</td>\n",
       "      <td>30-06-2013</td>\n",
       "      <td>1</td>\n",
       "    </tr>\n",
       "    <tr>\n",
       "      <th>9</th>\n",
       "      <td>23634</td>\n",
       "      <td>100</td>\n",
       "      <td>13045</td>\n",
       "      <td>206 Holbrooks Rd</td>\n",
       "      <td>30-06-2013</td>\n",
       "      <td>1</td>\n",
       "    </tr>\n",
       "  </tbody>\n",
       "</table>\n",
       "</div>"
      ],
      "text/plain": [
       "   TripID  RouteID  StopID                    StopName WeekBeginning  \\\n",
       "0   23631      100   14156                181 Cross Rd    30-06-2013   \n",
       "1   23631      100   14144                177 Cross Rd    30-06-2013   \n",
       "2   23632      100   14132                175 Cross Rd    30-06-2013   \n",
       "3   23633      100   12266  Zone A Arndale Interchange    30-06-2013   \n",
       "4   23633      100   14147                178 Cross Rd    30-06-2013   \n",
       "5   23634      100   13907               9A  Marion Rd    30-06-2013   \n",
       "6   23634      100   14132                175 Cross Rd    30-06-2013   \n",
       "7   23634      100   13335            9A  Holbrooks Rd    30-06-2013   \n",
       "8   23634      100   13875                9  Marion Rd    30-06-2013   \n",
       "9   23634      100   13045            206 Holbrooks Rd    30-06-2013   \n",
       "\n",
       "   NumberOfBoardings  \n",
       "0                  1  \n",
       "1                  1  \n",
       "2                  1  \n",
       "3                  2  \n",
       "4                  1  \n",
       "5                  1  \n",
       "6                  1  \n",
       "7                  1  \n",
       "8                  1  \n",
       "9                  1  "
      ]
     },
     "execution_count": 9,
     "metadata": {},
     "output_type": "execute_result"
    }
   ],
   "source": [
    "# This line is a comment indicating that we are about to load a dataset.\n",
    "print(\"Load the dataset\")\n",
    "\n",
    "# This line imports the Pandas library and assigns it the alias 'pd'.\n",
    "import pandas as pd\n",
    "\n",
    "# This line reads a CSV file into a Pandas DataFrame and stores it in the 'data' variable.\n",
    "# The 'low_memory' parameter is set to 'False' to prevent warning messages about data types.\n",
    "data = pd.read_csv(\"C:\\\\Users\\\\rayya\\\\OneDrive\\\\Desktop\\\\IBM Project\\\\20140711.CSV\", low_memory=False)\n",
    "\n",
    "# This line prints the dimensions (number of rows and columns) of the DataFrame 'data'.\n",
    "data.shape\n",
    "\n",
    "# This line displays the first 10 rows of the DataFrame 'data'.\n",
    "data.head(10)\n"
   ]
  },
  {
   "cell_type": "code",
   "execution_count": 10,
   "id": "c5865c74",
   "metadata": {},
   "outputs": [],
   "source": [
    "# Earlier above, We have already mentioned the use of each Python Library.\n",
    "# In this input, We are just importing them with their reference alias names.\n",
    "\n",
    "import lightgbm as lgb\n",
    "import xgboost as xgb\n",
    "import plotly.express as px\n",
    "import bubbly.bubbly\n",
    "import tensorflow as tf"
   ]
  },
  {
   "cell_type": "code",
   "execution_count": 11,
   "id": "a1b33129",
   "metadata": {},
   "outputs": [
    {
     "data": {
      "text/html": [
       "        <script type=\"text/javascript\">\n",
       "        window.PlotlyConfig = {MathJaxConfig: 'local'};\n",
       "        if (window.MathJax && window.MathJax.Hub && window.MathJax.Hub.Config) {window.MathJax.Hub.Config({SVG: {font: \"STIX-Web\"}});}\n",
       "        if (typeof require !== 'undefined') {\n",
       "        require.undef(\"plotly\");\n",
       "        requirejs.config({\n",
       "            paths: {\n",
       "                'plotly': ['https://cdn.plot.ly/plotly-2.12.1.min']\n",
       "            }\n",
       "        });\n",
       "        require(['plotly'], function(Plotly) {\n",
       "            window._Plotly = Plotly;\n",
       "        });\n",
       "        }\n",
       "        </script>\n",
       "        "
      ]
     },
     "metadata": {},
     "output_type": "display_data"
    }
   ],
   "source": [
    "# Import the necessary modules from Plotly to create interactive plots.\n",
    "import plotly.graph_objs as go\n",
    "\n",
    "# Import tools module for additional Plotly tools.\n",
    "from plotly import tools\n",
    "\n",
    "# Import functions for offline plotting using Plotly.\n",
    "from plotly.offline import download_plotlyjs, init_notebook_mode, plot, iplot\n",
    "\n",
    "# Import the 'plot' function from chart_studio.plotly for Plotly cloud integration.\n",
    "from chart_studio.plotly import plot as chart_studio_plot\n",
    "\n",
    "# Import the 'bubbleplot' function from the 'bubbly' library for creating bubble charts.\n",
    "from bubbly.bubbly import bubbleplot\n",
    "\n",
    "# Initialize Plotly in notebook mode to enable interactive plotting within the Jupyter notebook.\n",
    "init_notebook_mode(connected=True)\n"
   ]
  },
  {
   "cell_type": "code",
   "execution_count": 12,
   "id": "fe11e9bf",
   "metadata": {},
   "outputs": [],
   "source": [
    "# Importing the necessary modules for creating and displaying Bokeh plots.\n",
    "from bokeh.plotting import figure, save\n",
    "from bokeh.io import output_file, output_notebook, show\n",
    "\n",
    "# Importing modules required for creating maps and adding interactive tools.\n",
    "from bokeh.models import ColumnDataSource, GMapOptions, HoverTool\n",
    "\n",
    "# Importing the 'gmap' function for creating Google Maps plots using Bokeh.\n",
    "from bokeh.plotting import gmap\n"
   ]
  },
  {
   "cell_type": "code",
   "execution_count": 13,
   "id": "28253df9",
   "metadata": {},
   "outputs": [],
   "source": [
    "# Import the TensorFlow library, allowing you to access its functions and classes.\n",
    "import tensorflow as tf\n",
    "\n",
    "# Import the Sequential model from TensorFlow's Keras API. \n",
    "# Sequential is used to build a linear stack of layers for neural networks.\n",
    "from tensorflow.keras.models import Sequential\n",
    "\n",
    "# Importing various layer types from Keras to construct neural network architectures.\n",
    "# Input, Dense, GRU, LSTM, and Embedding are different types of layers.\n",
    "from tensorflow.keras.layers import Input, Dense, GRU, LSTM, Embedding\n",
    "\n",
    "# Import the RMSprop optimizer from Keras. Optimizers are used to update model weights during training.\n",
    "from tensorflow.keras.optimizers import RMSprop\n",
    "\n",
    "# Import callbacks from Keras. Callbacks are functions that are called during training to perform specific tasks.\n",
    "from tensorflow.keras.callbacks import EarlyStopping, ModelCheckpoint, TensorBoard, ReduceLROnPlateau\n"
   ]
  },
  {
   "cell_type": "code",
   "execution_count": 14,
   "id": "3072f1a0",
   "metadata": {},
   "outputs": [],
   "source": [
    "# Import the RMSprop optimizer from the TensorFlow.keras.optimizers module.\n",
    "from tensorflow.keras.optimizers import RMSprop\n",
    "\n",
    "# The imported RMSprop optimizer can be used for optimizing neural network models.\n"
   ]
  },
  {
   "cell_type": "code",
   "execution_count": 15,
   "id": "9c0689b6",
   "metadata": {},
   "outputs": [],
   "source": [
    "# Import the InteractiveShell class from the IPython core library.\n",
    "from IPython.core.interactiveshell import InteractiveShell\n",
    "\n",
    "# Create an instance of the InteractiveShell class and set the `ast_node_interactivity` attribute.\n",
    "InteractiveShell.ast_node_interactivity = \"all\"\n",
    "\n",
    "# The next line configures the behavior of IPython's interactive shell to display the output of all expressions,\n",
    "# even those that are not the result of the last line in a code cell.\n"
   ]
  },
  {
   "cell_type": "code",
   "execution_count": 16,
   "id": "71ecafc5",
   "metadata": {},
   "outputs": [],
   "source": [
    "# Import the pandas library and alias it as \"pd\" for convenience.\n",
    "import pandas as pd\n",
    "\n",
    "# Read a CSV file located at the specified path and store the data in the \"data\" variable.\n",
    "data = pd.read_csv(\"C:\\\\Users\\\\rayya\\\\OneDrive\\\\Desktop\\\\IBM Project\\\\20140711.CSV\", low_memory=False)\n"
   ]
  },
  {
   "cell_type": "code",
   "execution_count": 17,
   "id": "d141b0dd",
   "metadata": {},
   "outputs": [],
   "source": [
    "# This line reads a CSV file called \"output_geo.csv\" from the specified file path\n",
    "out_geo = pd.read_csv(\"C:\\\\Users\\\\rayya\\\\OneDrive\\\\Desktop\\\\IBM Project\\\\output_geo.csv\")\n",
    "\n",
    "# This line reads another CSV file called \"route.csv\" from the specified file path\n",
    "route = pd.read_csv(\"C:\\\\Users\\\\rayya\\\\OneDrive\\\\Desktop\\\\IBM Project\\\\route.csv\")\n"
   ]
  },
  {
   "cell_type": "code",
   "execution_count": 18,
   "id": "52edaee8",
   "metadata": {},
   "outputs": [
    {
     "data": {
      "text/plain": [
       "(1048575, 6)"
      ]
     },
     "execution_count": 18,
     "metadata": {},
     "output_type": "execute_result"
    },
    {
     "data": {
      "text/html": [
       "<div>\n",
       "<style scoped>\n",
       "    .dataframe tbody tr th:only-of-type {\n",
       "        vertical-align: middle;\n",
       "    }\n",
       "\n",
       "    .dataframe tbody tr th {\n",
       "        vertical-align: top;\n",
       "    }\n",
       "\n",
       "    .dataframe thead th {\n",
       "        text-align: right;\n",
       "    }\n",
       "</style>\n",
       "<table border=\"1\" class=\"dataframe\">\n",
       "  <thead>\n",
       "    <tr style=\"text-align: right;\">\n",
       "      <th></th>\n",
       "      <th>TripID</th>\n",
       "      <th>RouteID</th>\n",
       "      <th>StopID</th>\n",
       "      <th>StopName</th>\n",
       "      <th>WeekBeginning</th>\n",
       "      <th>NumberOfBoardings</th>\n",
       "    </tr>\n",
       "  </thead>\n",
       "  <tbody>\n",
       "    <tr>\n",
       "      <th>0</th>\n",
       "      <td>23631</td>\n",
       "      <td>100</td>\n",
       "      <td>14156</td>\n",
       "      <td>181 Cross Rd</td>\n",
       "      <td>30-06-2013</td>\n",
       "      <td>1</td>\n",
       "    </tr>\n",
       "    <tr>\n",
       "      <th>1</th>\n",
       "      <td>23631</td>\n",
       "      <td>100</td>\n",
       "      <td>14144</td>\n",
       "      <td>177 Cross Rd</td>\n",
       "      <td>30-06-2013</td>\n",
       "      <td>1</td>\n",
       "    </tr>\n",
       "    <tr>\n",
       "      <th>2</th>\n",
       "      <td>23632</td>\n",
       "      <td>100</td>\n",
       "      <td>14132</td>\n",
       "      <td>175 Cross Rd</td>\n",
       "      <td>30-06-2013</td>\n",
       "      <td>1</td>\n",
       "    </tr>\n",
       "    <tr>\n",
       "      <th>3</th>\n",
       "      <td>23633</td>\n",
       "      <td>100</td>\n",
       "      <td>12266</td>\n",
       "      <td>Zone A Arndale Interchange</td>\n",
       "      <td>30-06-2013</td>\n",
       "      <td>2</td>\n",
       "    </tr>\n",
       "    <tr>\n",
       "      <th>4</th>\n",
       "      <td>23633</td>\n",
       "      <td>100</td>\n",
       "      <td>14147</td>\n",
       "      <td>178 Cross Rd</td>\n",
       "      <td>30-06-2013</td>\n",
       "      <td>1</td>\n",
       "    </tr>\n",
       "  </tbody>\n",
       "</table>\n",
       "</div>"
      ],
      "text/plain": [
       "   TripID  RouteID  StopID                    StopName WeekBeginning  \\\n",
       "0   23631      100   14156                181 Cross Rd    30-06-2013   \n",
       "1   23631      100   14144                177 Cross Rd    30-06-2013   \n",
       "2   23632      100   14132                175 Cross Rd    30-06-2013   \n",
       "3   23633      100   12266  Zone A Arndale Interchange    30-06-2013   \n",
       "4   23633      100   14147                178 Cross Rd    30-06-2013   \n",
       "\n",
       "   NumberOfBoardings  \n",
       "0                  1  \n",
       "1                  1  \n",
       "2                  1  \n",
       "3                  2  \n",
       "4                  1  "
      ]
     },
     "execution_count": 18,
     "metadata": {},
     "output_type": "execute_result"
    }
   ],
   "source": [
    "# The following line is used to retrieve the shape (dimensions) of the 'data' DataFrame.\n",
    "data.shape\n",
    "\n",
    "# The next line displays the first 5 rows of the 'data' DataFrame, which is often done to inspect the data.\n",
    "data.head(5)\n"
   ]
  },
  {
   "cell_type": "code",
   "execution_count": 19,
   "id": "95a46e3a",
   "metadata": {},
   "outputs": [
    {
     "data": {
      "text/html": [
       "<div>\n",
       "<style scoped>\n",
       "    .dataframe tbody tr th:only-of-type {\n",
       "        vertical-align: middle;\n",
       "    }\n",
       "\n",
       "    .dataframe tbody tr th {\n",
       "        vertical-align: top;\n",
       "    }\n",
       "\n",
       "    .dataframe thead th {\n",
       "        text-align: right;\n",
       "    }\n",
       "</style>\n",
       "<table border=\"1\" class=\"dataframe\">\n",
       "  <thead>\n",
       "    <tr style=\"text-align: right;\">\n",
       "      <th></th>\n",
       "      <th>accuracy</th>\n",
       "      <th>formatted_address</th>\n",
       "      <th>google_place_id</th>\n",
       "      <th>input_string</th>\n",
       "      <th>latitude</th>\n",
       "      <th>longitude</th>\n",
       "      <th>number_of_results</th>\n",
       "      <th>postcode</th>\n",
       "      <th>status</th>\n",
       "      <th>type</th>\n",
       "    </tr>\n",
       "  </thead>\n",
       "  <tbody>\n",
       "    <tr>\n",
       "      <th>0</th>\n",
       "      <td>ROOFTOP</td>\n",
       "      <td>181 Cross Rd, Westbourne Park SA 5041, Australia</td>\n",
       "      <td>ChIJKT7I9rbPsGoRVHMHkIy-Oyk</td>\n",
       "      <td>181 Cross Rd</td>\n",
       "      <td>-34.966656</td>\n",
       "      <td>138.592148</td>\n",
       "      <td>1</td>\n",
       "      <td>5041</td>\n",
       "      <td>OK</td>\n",
       "      <td>street_address</td>\n",
       "    </tr>\n",
       "    <tr>\n",
       "      <th>1</th>\n",
       "      <td>ROOFTOP</td>\n",
       "      <td>177 Cross Rd, Westbourne Park SA 5041, Australia</td>\n",
       "      <td>ChIJ-VFZ87bPsGoRyfVgC5qbPpE</td>\n",
       "      <td>182 Cross Rd</td>\n",
       "      <td>-34.966607</td>\n",
       "      <td>138.592301</td>\n",
       "      <td>1</td>\n",
       "      <td>5041</td>\n",
       "      <td>OK</td>\n",
       "      <td>street_address</td>\n",
       "    </tr>\n",
       "    <tr>\n",
       "      <th>2</th>\n",
       "      <td>ROOFTOP</td>\n",
       "      <td>175 Cross Rd, Westbourne Park SA 5041, Australia</td>\n",
       "      <td>ChIJIztlirbPsGoR38KRk76kPFI</td>\n",
       "      <td>183 Cross Rd</td>\n",
       "      <td>-34.966758</td>\n",
       "      <td>138.592715</td>\n",
       "      <td>1</td>\n",
       "      <td>5041</td>\n",
       "      <td>OK</td>\n",
       "      <td>street_address</td>\n",
       "    </tr>\n",
       "    <tr>\n",
       "      <th>3</th>\n",
       "      <td>GEOMETRIC_CENTER</td>\n",
       "      <td>Zone A Arndale Interchange - South side, Kilke...</td>\n",
       "      <td>ChIJn0C1hCPGsGoRIWvCdhF1RIg</td>\n",
       "      <td>184 Cross Rd</td>\n",
       "      <td>-34.875160</td>\n",
       "      <td>138.551628</td>\n",
       "      <td>1</td>\n",
       "      <td>5009</td>\n",
       "      <td>OK</td>\n",
       "      <td>bus_station,establishment,point_of_interest,tr...</td>\n",
       "    </tr>\n",
       "    <tr>\n",
       "      <th>4</th>\n",
       "      <td>ROOFTOP</td>\n",
       "      <td>178 Cross Rd, Malvern SA 5061, Australia</td>\n",
       "      <td>ChIJycNiylvOsGoRdhfq9GKnpq0</td>\n",
       "      <td>185 Cross Rd</td>\n",
       "      <td>-34.964960</td>\n",
       "      <td>138.611477</td>\n",
       "      <td>1</td>\n",
       "      <td>5061</td>\n",
       "      <td>OK</td>\n",
       "      <td>street_address</td>\n",
       "    </tr>\n",
       "  </tbody>\n",
       "</table>\n",
       "</div>"
      ],
      "text/plain": [
       "           accuracy                                  formatted_address  \\\n",
       "0           ROOFTOP   181 Cross Rd, Westbourne Park SA 5041, Australia   \n",
       "1           ROOFTOP   177 Cross Rd, Westbourne Park SA 5041, Australia   \n",
       "2           ROOFTOP   175 Cross Rd, Westbourne Park SA 5041, Australia   \n",
       "3  GEOMETRIC_CENTER  Zone A Arndale Interchange - South side, Kilke...   \n",
       "4           ROOFTOP           178 Cross Rd, Malvern SA 5061, Australia   \n",
       "\n",
       "               google_place_id  input_string   latitude   longitude  \\\n",
       "0  ChIJKT7I9rbPsGoRVHMHkIy-Oyk  181 Cross Rd -34.966656  138.592148   \n",
       "1  ChIJ-VFZ87bPsGoRyfVgC5qbPpE  182 Cross Rd -34.966607  138.592301   \n",
       "2  ChIJIztlirbPsGoR38KRk76kPFI  183 Cross Rd -34.966758  138.592715   \n",
       "3  ChIJn0C1hCPGsGoRIWvCdhF1RIg  184 Cross Rd -34.875160  138.551628   \n",
       "4  ChIJycNiylvOsGoRdhfq9GKnpq0  185 Cross Rd -34.964960  138.611477   \n",
       "\n",
       "   number_of_results postcode status  \\\n",
       "0                  1     5041     OK   \n",
       "1                  1     5041     OK   \n",
       "2                  1     5041     OK   \n",
       "3                  1     5009     OK   \n",
       "4                  1     5061     OK   \n",
       "\n",
       "                                                type  \n",
       "0                                     street_address  \n",
       "1                                     street_address  \n",
       "2                                     street_address  \n",
       "3  bus_station,establishment,point_of_interest,tr...  \n",
       "4                                     street_address  "
      ]
     },
     "execution_count": 19,
     "metadata": {},
     "output_type": "execute_result"
    },
    {
     "data": {
      "text/html": [
       "<div>\n",
       "<style scoped>\n",
       "    .dataframe tbody tr th:only-of-type {\n",
       "        vertical-align: middle;\n",
       "    }\n",
       "\n",
       "    .dataframe tbody tr th {\n",
       "        vertical-align: top;\n",
       "    }\n",
       "\n",
       "    .dataframe thead th {\n",
       "        text-align: right;\n",
       "    }\n",
       "</style>\n",
       "<table border=\"1\" class=\"dataframe\">\n",
       "  <thead>\n",
       "    <tr style=\"text-align: right;\">\n",
       "      <th></th>\n",
       "      <th>route_id</th>\n",
       "      <th>agency_id</th>\n",
       "      <th>route_short_name</th>\n",
       "      <th>long_name</th>\n",
       "      <th>route_desc</th>\n",
       "      <th>route_type</th>\n",
       "      <th>route_url</th>\n",
       "      <th>route_color</th>\n",
       "      <th>route_text_color</th>\n",
       "      <th>route_group</th>\n",
       "    </tr>\n",
       "  </thead>\n",
       "  <tbody>\n",
       "    <tr>\n",
       "      <th>0</th>\n",
       "      <td>100</td>\n",
       "      <td>6</td>\n",
       "      <td>100</td>\n",
       "      <td>181 Cross Rd</td>\n",
       "      <td>181 Cross Rd, Westbourne Park SA 5041, Australia</td>\n",
       "      <td>3</td>\n",
       "      <td>http://www.adelaidemetro.com.au/routes/100</td>\n",
       "      <td>0033CC</td>\n",
       "      <td>ffffff</td>\n",
       "      <td>100-101</td>\n",
       "    </tr>\n",
       "    <tr>\n",
       "      <th>1</th>\n",
       "      <td>100</td>\n",
       "      <td>8</td>\n",
       "      <td>100</td>\n",
       "      <td>182 Cross Rd</td>\n",
       "      <td>177 Cross Rd, Westbourne Park SA 5041, Australia</td>\n",
       "      <td>1</td>\n",
       "      <td>http://www.adelaidemetro.com.au/routes/101</td>\n",
       "      <td>0033CC</td>\n",
       "      <td>ffffff</td>\n",
       "      <td>100-101</td>\n",
       "    </tr>\n",
       "    <tr>\n",
       "      <th>2</th>\n",
       "      <td>100</td>\n",
       "      <td>8</td>\n",
       "      <td>100</td>\n",
       "      <td>183 Cross Rd</td>\n",
       "      <td>175 Cross Rd, Westbourne Park SA 5041, Australia</td>\n",
       "      <td>2</td>\n",
       "      <td>http://www.adelaidemetro.com.au/routes/102</td>\n",
       "      <td>0033CC</td>\n",
       "      <td>ffffff</td>\n",
       "      <td>100-101</td>\n",
       "    </tr>\n",
       "    <tr>\n",
       "      <th>3</th>\n",
       "      <td>100</td>\n",
       "      <td>5</td>\n",
       "      <td>100</td>\n",
       "      <td>184 Cross Rd</td>\n",
       "      <td>Zone A Arndale Interchange - South side, Kilke...</td>\n",
       "      <td>1</td>\n",
       "      <td>http://www.adelaidemetro.com.au/routes/103</td>\n",
       "      <td>0033CC</td>\n",
       "      <td>ffffff</td>\n",
       "      <td>100-101</td>\n",
       "    </tr>\n",
       "    <tr>\n",
       "      <th>4</th>\n",
       "      <td>100</td>\n",
       "      <td>8</td>\n",
       "      <td>100</td>\n",
       "      <td>185 Cross Rd</td>\n",
       "      <td>178 Cross Rd, Malvern SA 5061, Australia</td>\n",
       "      <td>2</td>\n",
       "      <td>http://www.adelaidemetro.com.au/routes/104</td>\n",
       "      <td>0033CC</td>\n",
       "      <td>ffffff</td>\n",
       "      <td>100-101</td>\n",
       "    </tr>\n",
       "  </tbody>\n",
       "</table>\n",
       "</div>"
      ],
      "text/plain": [
       "  route_id  agency_id route_short_name     long_name  \\\n",
       "0      100          6              100  181 Cross Rd   \n",
       "1      100          8              100  182 Cross Rd   \n",
       "2      100          8              100  183 Cross Rd   \n",
       "3      100          5              100  184 Cross Rd   \n",
       "4      100          8              100  185 Cross Rd   \n",
       "\n",
       "                                          route_desc  route_type  \\\n",
       "0   181 Cross Rd, Westbourne Park SA 5041, Australia           3   \n",
       "1   177 Cross Rd, Westbourne Park SA 5041, Australia           1   \n",
       "2   175 Cross Rd, Westbourne Park SA 5041, Australia           2   \n",
       "3  Zone A Arndale Interchange - South side, Kilke...           1   \n",
       "4           178 Cross Rd, Malvern SA 5061, Australia           2   \n",
       "\n",
       "                                    route_url route_color route_text_color  \\\n",
       "0  http://www.adelaidemetro.com.au/routes/100      0033CC           ffffff   \n",
       "1  http://www.adelaidemetro.com.au/routes/101      0033CC           ffffff   \n",
       "2  http://www.adelaidemetro.com.au/routes/102      0033CC           ffffff   \n",
       "3  http://www.adelaidemetro.com.au/routes/103      0033CC           ffffff   \n",
       "4  http://www.adelaidemetro.com.au/routes/104      0033CC           ffffff   \n",
       "\n",
       "  route_group  \n",
       "0     100-101  \n",
       "1     100-101  \n",
       "2     100-101  \n",
       "3     100-101  \n",
       "4     100-101  "
      ]
     },
     "execution_count": 19,
     "metadata": {},
     "output_type": "execute_result"
    }
   ],
   "source": [
    "out_geo.head(5)\n",
    "route.head(5)"
   ]
  },
  {
   "cell_type": "code",
   "execution_count": 20,
   "id": "a01d9179",
   "metadata": {},
   "outputs": [
    {
     "name": "stdout",
     "output_type": "stream",
     "text": [
      "TripID                int64\n",
      "RouteID               int64\n",
      "StopID                int64\n",
      "StopName             object\n",
      "WeekBeginning        object\n",
      "NumberOfBoardings     int64\n",
      "dtype: object\n"
     ]
    }
   ],
   "source": [
    "# The line below is used to remove duplicate rows from the 'data' DataFrame.\n",
    "data = data.drop_duplicates()\n",
    "\n",
    "# The two lines below import the 'seaborn' library and alias it as 'sns' for data visualization purposes.\n",
    "import seaborn as sns\n",
    "\n",
    "# The line below prints the data types of the columns in the 'data' DataFrame.\n",
    "print(data.dtypes)\n"
   ]
  },
  {
   "cell_type": "code",
   "execution_count": 21,
   "id": "d77c5924",
   "metadata": {},
   "outputs": [
    {
     "name": "stdout",
     "output_type": "stream",
     "text": [
      "Handle mixed data types\n",
      "(1048575, 6)\n"
     ]
    }
   ],
   "source": [
    "# Convert the 'RouteID' column to numeric, handling errors by coercing non-numeric values to NaN.\n",
    "data['RouteID'] = pd.to_numeric(data['RouteID'], errors='coerce')\n",
    "\n",
    "# Print a message indicating that we are handling mixed data types.\n",
    "print(\"Handle mixed data types\")\n",
    "\n",
    "# Print the shape of the 'data' DataFrame to check the number of rows and columns after the operation.\n",
    "print(data.shape)\n"
   ]
  },
  {
   "cell_type": "code",
   "execution_count": 22,
   "id": "14ba008f",
   "metadata": {},
   "outputs": [
    {
     "name": "stdout",
     "output_type": "stream",
     "text": [
      "\n",
      "Handle missing values\n",
      "(1048575, 6)\n"
     ]
    }
   ],
   "source": [
    "# Remove rows with missing values (NaN) from the 'data' DataFrame.\n",
    "data = data.dropna()\n",
    "\n",
    "# Print a message indicating that we are handling missing values.\n",
    "print(\"\\nHandle missing values\")\n",
    "\n",
    "# Print the shape (number of rows and columns) of the 'data' DataFrame after removing missing values.\n",
    "print(data.shape)\n"
   ]
  },
  {
   "cell_type": "code",
   "execution_count": 23,
   "id": "0c3f8c8c",
   "metadata": {},
   "outputs": [
    {
     "name": "stdout",
     "output_type": "stream",
     "text": [
      "\n",
      "Convert 'WeekBeginning' column to datetime format\n",
      "0   2013-06-30\n",
      "1   2013-06-30\n",
      "2   2013-06-30\n",
      "3   2013-06-30\n",
      "4   2013-06-30\n",
      "Name: WeekBeginning, dtype: datetime64[ns]\n"
     ]
    }
   ],
   "source": [
    "# Convert the 'WeekBeginning' column to a datetime format.\n",
    "# This line converts the 'WeekBeginning' column in the DataFrame to datetime format. \n",
    "# The 'errors' parameter is set to 'coerce', which means that any parsing errors \n",
    "# during the conversion will be set to NaT (Not-a-Time) values.\n",
    "\n",
    "data['WeekBeginning'] = pd.to_datetime(data['WeekBeginning'], errors='coerce')\n",
    "\n",
    "# Print a message to indicate the conversion of the 'WeekBeginning' column to datetime format.\n",
    "print(\"\\nConvert 'WeekBeginning' column to datetime format\")\n",
    "\n",
    "# Print the first few rows of the 'WeekBeginning' column after the conversion.\n",
    "print(data['WeekBeginning'].head())"
   ]
  },
  {
   "cell_type": "code",
   "execution_count": 24,
   "id": "4836dc8c",
   "metadata": {},
   "outputs": [
    {
     "data": {
      "text/html": [
       "<div>\n",
       "<style scoped>\n",
       "    .dataframe tbody tr th:only-of-type {\n",
       "        vertical-align: middle;\n",
       "    }\n",
       "\n",
       "    .dataframe tbody tr th {\n",
       "        vertical-align: top;\n",
       "    }\n",
       "\n",
       "    .dataframe thead th {\n",
       "        text-align: right;\n",
       "    }\n",
       "</style>\n",
       "<table border=\"1\" class=\"dataframe\">\n",
       "  <thead>\n",
       "    <tr style=\"text-align: right;\">\n",
       "      <th></th>\n",
       "      <th>TripID</th>\n",
       "      <th>RouteID</th>\n",
       "      <th>StopID</th>\n",
       "      <th>StopName</th>\n",
       "      <th>WeekBeginning</th>\n",
       "      <th>NumberOfBoardings</th>\n",
       "    </tr>\n",
       "  </thead>\n",
       "  <tbody>\n",
       "    <tr>\n",
       "      <th>0</th>\n",
       "      <td>23631</td>\n",
       "      <td>100</td>\n",
       "      <td>14156</td>\n",
       "      <td>181 Cross Rd</td>\n",
       "      <td>2013-06-30</td>\n",
       "      <td>1</td>\n",
       "    </tr>\n",
       "    <tr>\n",
       "      <th>1</th>\n",
       "      <td>23631</td>\n",
       "      <td>100</td>\n",
       "      <td>14144</td>\n",
       "      <td>177 Cross Rd</td>\n",
       "      <td>2013-06-30</td>\n",
       "      <td>1</td>\n",
       "    </tr>\n",
       "    <tr>\n",
       "      <th>2</th>\n",
       "      <td>23632</td>\n",
       "      <td>100</td>\n",
       "      <td>14132</td>\n",
       "      <td>175 Cross Rd</td>\n",
       "      <td>2013-06-30</td>\n",
       "      <td>1</td>\n",
       "    </tr>\n",
       "    <tr>\n",
       "      <th>3</th>\n",
       "      <td>23633</td>\n",
       "      <td>100</td>\n",
       "      <td>12266</td>\n",
       "      <td>Zone A Arndale Interchange</td>\n",
       "      <td>2013-06-30</td>\n",
       "      <td>2</td>\n",
       "    </tr>\n",
       "    <tr>\n",
       "      <th>4</th>\n",
       "      <td>23633</td>\n",
       "      <td>100</td>\n",
       "      <td>14147</td>\n",
       "      <td>178 Cross Rd</td>\n",
       "      <td>2013-06-30</td>\n",
       "      <td>1</td>\n",
       "    </tr>\n",
       "  </tbody>\n",
       "</table>\n",
       "</div>"
      ],
      "text/plain": [
       "   TripID  RouteID  StopID                    StopName WeekBeginning  \\\n",
       "0   23631      100   14156                181 Cross Rd    2013-06-30   \n",
       "1   23631      100   14144                177 Cross Rd    2013-06-30   \n",
       "2   23632      100   14132                175 Cross Rd    2013-06-30   \n",
       "3   23633      100   12266  Zone A Arndale Interchange    2013-06-30   \n",
       "4   23633      100   14147                178 Cross Rd    2013-06-30   \n",
       "\n",
       "   NumberOfBoardings  \n",
       "0                  1  \n",
       "1                  1  \n",
       "2                  1  \n",
       "3                  2  \n",
       "4                  1  "
      ]
     },
     "execution_count": 24,
     "metadata": {},
     "output_type": "execute_result"
    }
   ],
   "source": [
    "data.head() # Prints the first five rows of a table."
   ]
  },
  {
   "cell_type": "code",
   "execution_count": 25,
   "id": "a0c85f98",
   "metadata": {},
   "outputs": [
    {
     "name": "stdout",
     "output_type": "stream",
     "text": [
      "TripID               3293\n",
      "RouteID                20\n",
      "StopID                963\n",
      "StopName              577\n",
      "WeekBeginning          54\n",
      "NumberOfBoardings     160\n",
      "dtype: int64\n"
     ]
    }
   ],
   "source": [
    "# This code line prints the number of unique values in each column of the 'data' DataFrame.\n",
    "# It's useful for understanding the diversity of values in your dataset.\n",
    "print(data.nunique())"
   ]
  },
  {
   "cell_type": "code",
   "execution_count": 26,
   "id": "b826b2da",
   "metadata": {},
   "outputs": [
    {
     "data": {
      "text/plain": [
       "(1048575, 6)"
      ]
     },
     "execution_count": 26,
     "metadata": {},
     "output_type": "execute_result"
    },
    {
     "data": {
      "text/plain": [
       "Index(['TripID', 'RouteID', 'StopID', 'StopName', 'WeekBeginning',\n",
       "       'NumberOfBoardings'],\n",
       "      dtype='object')"
      ]
     },
     "execution_count": 26,
     "metadata": {},
     "output_type": "execute_result"
    },
    {
     "data": {
      "text/html": [
       "<div>\n",
       "<style scoped>\n",
       "    .dataframe tbody tr th:only-of-type {\n",
       "        vertical-align: middle;\n",
       "    }\n",
       "\n",
       "    .dataframe tbody tr th {\n",
       "        vertical-align: top;\n",
       "    }\n",
       "\n",
       "    .dataframe thead th {\n",
       "        text-align: right;\n",
       "    }\n",
       "</style>\n",
       "<table border=\"1\" class=\"dataframe\">\n",
       "  <thead>\n",
       "    <tr style=\"text-align: right;\">\n",
       "      <th></th>\n",
       "      <th>TripID</th>\n",
       "      <th>RouteID</th>\n",
       "      <th>StopID</th>\n",
       "      <th>StopName</th>\n",
       "      <th>WeekBeginning</th>\n",
       "      <th>NumberOfBoardings</th>\n",
       "    </tr>\n",
       "  </thead>\n",
       "  <tbody>\n",
       "    <tr>\n",
       "      <th>0</th>\n",
       "      <td>23631</td>\n",
       "      <td>100</td>\n",
       "      <td>14156</td>\n",
       "      <td>181 Cross Rd</td>\n",
       "      <td>2013-06-30</td>\n",
       "      <td>1</td>\n",
       "    </tr>\n",
       "    <tr>\n",
       "      <th>1</th>\n",
       "      <td>23631</td>\n",
       "      <td>100</td>\n",
       "      <td>14144</td>\n",
       "      <td>177 Cross Rd</td>\n",
       "      <td>2013-06-30</td>\n",
       "      <td>1</td>\n",
       "    </tr>\n",
       "    <tr>\n",
       "      <th>2</th>\n",
       "      <td>23632</td>\n",
       "      <td>100</td>\n",
       "      <td>14132</td>\n",
       "      <td>175 Cross Rd</td>\n",
       "      <td>2013-06-30</td>\n",
       "      <td>1</td>\n",
       "    </tr>\n",
       "  </tbody>\n",
       "</table>\n",
       "</div>"
      ],
      "text/plain": [
       "   TripID  RouteID  StopID      StopName WeekBeginning  NumberOfBoardings\n",
       "0   23631      100   14156  181 Cross Rd    2013-06-30                  1\n",
       "1   23631      100   14144  177 Cross Rd    2013-06-30                  1\n",
       "2   23632      100   14132  175 Cross Rd    2013-06-30                  1"
      ]
     },
     "execution_count": 26,
     "metadata": {},
     "output_type": "execute_result"
    }
   ],
   "source": [
    "data.shape\n",
    "data.columns\n",
    "data.head(3)"
   ]
  },
  {
   "cell_type": "code",
   "execution_count": 27,
   "id": "de230415",
   "metadata": {},
   "outputs": [],
   "source": [
    "# Importing specific trigonometric and mathematical functions from the math module.\n",
    "from math import sin, cos, sqrt, atan2, radians\n",
    "\n",
    "# Define a function 'calc_dist' that calculates the distance between two geographic coordinates.\n",
    "def calc_dist(lat1, lon1):\n",
    "    # Approximate radius of the Earth in kilometers.\n",
    "    R = 6373.0\n",
    "\n",
    "    # Calculate the difference in longitudes between two points in radians.\n",
    "    dlon = radians(138.604801) - radians(lon1)\n",
    "\n",
    "    # Calculate the difference in latitudes between two points in radians.\n",
    "    dlat = radians(-34.921247) - radians(lat1)\n",
    "\n",
    "    # Using the Haversine formula to calculate the distance between two points on the Earth's surface.\n",
    "    # 'a' represents the square of half the great-circle distance between the points.\n",
    "    a = sin(dlat / 2)**2 + cos(radians(lat1)) * cos(radians(-34.921247)) * sin(dlon / 2)**2\n",
    "\n",
    "    # 'c' is the angular distance in radians between the two points.\n",
    "    c = 2 * atan2(sqrt(a), sqrt(1 - a))\n",
    "\n",
    "    # Return the distance by multiplying the angular distance by the Earth's radius.\n",
    "    return R * c"
   ]
  },
  {
   "cell_type": "code",
   "execution_count": 28,
   "id": "733d211f",
   "metadata": {},
   "outputs": [],
   "source": [
    "# Adding a new column 'dist_from_centre' to the 'out_geo' DataFrame.\n",
    "# This column will store the calculated distances from the center for each geographic point.\n",
    "\n",
    "# Using the 'apply' method to calculate distances for each row in the DataFrame 'out_geo.'\n",
    "# The lambda function is applied to each row, passing the latitude and longitude values as 'x.'\n",
    "\n",
    "# The lambda function calls 'calc_dist(*x)' to calculate the distance from the center for each point.\n",
    "# The 'axis=1' parameter indicates that the function should be applied row-wise (across columns).\n",
    "\n",
    "out_geo['dist_from_centre'] = out_geo[['latitude', 'longitude']].apply(lambda x: calc_dist(*x), axis=1)"
   ]
  },
  {
   "cell_type": "code",
   "execution_count": 29,
   "id": "aa68dbbb",
   "metadata": {},
   "outputs": [],
   "source": [
    "# Fill missing values in the 'type' column of the 'out_geo' DataFrame with the string 'street_address'.\n",
    "out_geo['type'].fillna('street_address', inplace=True)\n",
    "\n",
    "# For each value in the 'type' column of the 'out_geo' DataFrame, split the string by commas and select the last part.\n",
    "# This operation is performed using a lambda function.\n",
    "out_geo['type'] = out_geo['type'].apply(lambda x: str(x).split(',')[-1])\n"
   ]
  },
  {
   "cell_type": "code",
   "execution_count": 30,
   "id": "2c6c0d69",
   "metadata": {},
   "outputs": [
    {
     "data": {
      "text/plain": [
       "array(['street_address', 'transit_station', 'premise', 'political',\n",
       "       'school', 'route', 'intersection', 'point_of_interest',\n",
       "       'subpremise', 'real_estate_agency', 'university', 'travel_agency',\n",
       "       'restaurant', 'supermarket', 'store', 'post_office'], dtype=object)"
      ]
     },
     "execution_count": 30,
     "metadata": {},
     "output_type": "execute_result"
    }
   ],
   "source": [
    "# Access the 'type' column of the DataFrame 'out_geo' and retrieve unique values.\n",
    "# The 'type' column likely represents different types of geographic features or data.\n",
    "\n",
    "out_geo['type'].unique()\n"
   ]
  },
  {
   "cell_type": "code",
   "execution_count": 31,
   "id": "1a208728",
   "metadata": {},
   "outputs": [
    {
     "data": {
      "text/plain": [
       "\"Holidays--\\n2013-09-01,Father's Day\\n2013-10-07,Labour day\\n2013-12-25,Christmas day\\n2013-12-26,Proclamation Day\\n2014-01-01,New Year\\n2014-01-27,Australia Day\\n2014-03-10,March Public Holiday\\n2014-04-18,Good Friday\\n2014-04-19,Easter Saturday\\n2014-04-21,Easter Monday\\n2014-04-25,Anzac Day\\n2014-06-09,Queen's Birthday\""
      ]
     },
     "execution_count": 31,
     "metadata": {},
     "output_type": "execute_result"
    }
   ],
   "source": [
    "# This is a multiline string representing a list of holidays with dates and names.\n",
    "# Each line contains a date and the name of the corresponding holida\n",
    "'''Holidays--\n",
    "2013-09-01,Father's Day\n",
    "2013-10-07,Labour day\n",
    "2013-12-25,Christmas day\n",
    "2013-12-26,Proclamation Day\n",
    "2014-01-01,New Year\n",
    "2014-01-27,Australia Day\n",
    "2014-03-10,March Public Holiday\n",
    "2014-04-18,Good Friday\n",
    "2014-04-19,Easter Saturday\n",
    "2014-04-21,Easter Monday\n",
    "2014-04-25,Anzac Day\n",
    "2014-06-09,Queen's Birthday'''"
   ]
  },
  {
   "cell_type": "code",
   "execution_count": 32,
   "id": "d38fbeee",
   "metadata": {},
   "outputs": [],
   "source": [
    "# Defining a function 'holiday_label' that takes a 'row' as input, which is typically a date.\n",
    "# Check if the input date is equal to September 1, 2013, and if so, label it as a holiday ('1').\n",
    "\n",
    "def holiday_label (row):\n",
    "    if row == datetime.date(2013, 9, 1) :\n",
    "          return '1'\n",
    "    if row == datetime.date(2013, 10, 6) :\n",
    "          return '1'\n",
    "    if row == datetime.date(2013, 12, 22) :\n",
    "          return '2'\n",
    "    if row == datetime.date(2013, 12, 29):\n",
    "          return '1'\n",
    "    if row  == datetime.date(2014, 1, 26):\n",
    "          return '1'\n",
    "    if row == datetime.date(2014, 3, 9):\n",
    "          return '1'\n",
    "    if row == datetime.date(2014, 4, 13) :\n",
    "          return '2'\n",
    "    if row == datetime.date(2014, 4, 20):\n",
    "          return '2'\n",
    "    if row == datetime.date(2014, 6, 8):\n",
    "          return '1'\n",
    "# If none of the above conditions are met, return '0' to indicate that the date is not a holiday\n",
    "\n",
    "    return '0'"
   ]
  },
  {
   "cell_type": "code",
   "execution_count": 33,
   "id": "35c900f2",
   "metadata": {},
   "outputs": [],
   "source": [
    "# Convert the 'WeekBeginning' column in the 'data' DataFrame to datetime format.\n",
    "data['WeekBeginning'] = pd.to_datetime(data['WeekBeginning'])\n",
    "\n",
    "# Extract only the date part (without the time) from the 'WeekBeginning' column and store it back in the same column.\n",
    "# This is done using the 'dt.date' accessor to keep only the date component.\n",
    "data['WeekBeginning'] = data['WeekBeginning'].dt.date"
   ]
  },
  {
   "cell_type": "code",
   "execution_count": 34,
   "id": "35d21f80",
   "metadata": {},
   "outputs": [],
   "source": [
    "# Assign a new column 'holiday_label' to the 'data' DataFrame based on the 'WeekBeginning' column.\n",
    "# Use the 'apply' method to apply a function to each row of the 'WeekBeginning' column.\n",
    "# A lambda function is used to apply the 'holiday_label' function to each 'WeekBeginning' value.\n",
    "# The 'holiday_label' function is used to determine and assign a holiday label for each date in the 'WeekBeginning' column.\n",
    "# The result of applying 'holiday_label' to each row is stored in the 'holiday_label' column of the 'data' DataFrame.\n",
    "\n",
    "data['holiday_label'] = data['WeekBeginning'].apply(lambda row: holiday_label(row))"
   ]
  },
  {
   "cell_type": "code",
   "execution_count": 35,
   "id": "95670e50",
   "metadata": {},
   "outputs": [],
   "source": [
    "# Merging dataframes: 'data' and 'out_geo'.\n",
    "data = pd.merge(data, out_geo, how='left',\n",
    "\n",
    "# Merging the dataframes using a left join, which includes all rows from the 'data' dataframe\n",
    "# and matches them with corresponding rows from the 'out_geo' dataframe based on the specified keys.\n",
    "# Matching rows from 'data' based on the 'StopName' column.\n",
    "left_on='StopName',\n",
    "\n",
    "# Matching rows from 'out_geo' based on the 'input_string' column.\n",
    "right_on='input_string')\n",
    "\n",
    "# This line combines data from both dataframes, linking rows based on the specified columns.\n"
   ]
  },
  {
   "cell_type": "code",
   "execution_count": 36,
   "id": "4b6f08fe",
   "metadata": {},
   "outputs": [],
   "source": [
    "# Creating a list 'col' to represent the column names or field names for a dataset.\n",
    "\n",
    "col = ['TripID', 'RouteID', 'StopID', 'StopName', 'WeekBeginning','NumberOfBoardings','formatted_address',\n",
    "      'latitude', 'longitude','postcode','type','route_desc','dist_from_centre','holiday_label']\n",
    "\n",
    "# The 'col' list serves as a reference for the column names in a dataset, making it easier to work with the data."
   ]
  },
  {
   "cell_type": "code",
   "execution_count": 37,
   "id": "4e167bfe",
   "metadata": {},
   "outputs": [
    {
     "name": "stdout",
     "output_type": "stream",
     "text": [
      "['20140711.CSV', 'archive.zip', 'output_geo.csv', 'Public Transport Boarding Summary by Route, Trip, Stop and Week of Year.doc', 'route.csv', 'st_week_grp.csv', 'Weekly_Boarding.csv']\n"
     ]
    }
   ],
   "source": [
    "# Import the 'os' module, which provides a way to interact with the operating system, including file and directory operations.\n",
    "import os\n",
    "\n",
    "# Use the 'os.listdir' function to retrieve a list of files and directories located at the specified path.\n",
    "# In this case, it lists the contents of the directory \"C:\\\\Users\\\\rayya\\\\OneDrive\\\\Desktop\\\\IBM Project\".\n",
    "files = os.listdir(\"C:\\\\Users\\\\rayya\\\\OneDrive\\\\Desktop\\\\IBM Project\")\n",
    "\n",
    "# Print the list of files and directories obtained from the specified directory.\n",
    "print(files)\n"
   ]
  },
  {
   "cell_type": "code",
   "execution_count": 38,
   "id": "a06740a8",
   "metadata": {},
   "outputs": [
    {
     "name": "stdout",
     "output_type": "stream",
     "text": [
      "Index(['TripID', 'RouteID', 'StopID', 'StopName', 'WeekBeginning',\n",
      "       'NumberOfBoardings', 'holiday_label', 'accuracy', 'formatted_address',\n",
      "       'google_place_id', 'input_string', 'latitude', 'longitude',\n",
      "       'number_of_results', 'postcode', 'status', 'type', 'dist_from_centre'],\n",
      "      dtype='object')\n"
     ]
    }
   ],
   "source": [
    "# Printing the columns of the 'data' DataFrame.\n",
    "\n",
    "print(data.columns) "
   ]
  },
  {
   "cell_type": "code",
   "execution_count": 39,
   "id": "7f4994b1",
   "metadata": {},
   "outputs": [
    {
     "name": "stdout",
     "output_type": "stream",
     "text": [
      "   TripID  RouteID  StopID                    StopName WeekBeginning  \\\n",
      "0   23631      100   14156                181 Cross Rd    2013-06-30   \n",
      "1   23631      100   14144                177 Cross Rd    2013-06-30   \n",
      "2   23632      100   14132                175 Cross Rd    2013-06-30   \n",
      "3   23633      100   12266  Zone A Arndale Interchange    2013-06-30   \n",
      "4   23633      100   14147                178 Cross Rd    2013-06-30   \n",
      "\n",
      "   NumberOfBoardings holiday_label accuracy  \\\n",
      "0                  1             0  ROOFTOP   \n",
      "1                  1             0      NaN   \n",
      "2                  1             0      NaN   \n",
      "3                  2             0      NaN   \n",
      "4                  1             0      NaN   \n",
      "\n",
      "                                  formatted_address  \\\n",
      "0  181 Cross Rd, Westbourne Park SA 5041, Australia   \n",
      "1                                               NaN   \n",
      "2                                               NaN   \n",
      "3                                               NaN   \n",
      "4                                               NaN   \n",
      "\n",
      "               google_place_id  input_string   latitude   longitude  \\\n",
      "0  ChIJKT7I9rbPsGoRVHMHkIy-Oyk  181 Cross Rd -34.966656  138.592148   \n",
      "1                          NaN           NaN        NaN         NaN   \n",
      "2                          NaN           NaN        NaN         NaN   \n",
      "3                          NaN           NaN        NaN         NaN   \n",
      "4                          NaN           NaN        NaN         NaN   \n",
      "\n",
      "   number_of_results postcode status            type  dist_from_centre  \n",
      "0                1.0     5041     OK  street_address          5.180961  \n",
      "1                NaN      NaN    NaN             NaN               NaN  \n",
      "2                NaN      NaN    NaN             NaN               NaN  \n",
      "3                NaN      NaN    NaN             NaN               NaN  \n",
      "4                NaN      NaN    NaN             NaN               NaN  \n"
     ]
    }
   ],
   "source": [
    "print(data.head())"
   ]
  },
  {
   "cell_type": "code",
   "execution_count": 40,
   "id": "5ef8a65b",
   "metadata": {},
   "outputs": [],
   "source": [
    "# Saving the DataFrame 'data' to a CSV file named 'Weekly_Boarding.csv' with the index column excluded.\n",
    "# The 'to_csv' method is used to write the contents of the DataFrame to a CSV file.\n",
    "\n",
    "data.to_csv('Weekly_Boarding.csv', index=False)"
   ]
  },
  {
   "cell_type": "code",
   "execution_count": 41,
   "id": "ebeccd5e",
   "metadata": {},
   "outputs": [],
   "source": [
    "# Grouping the 'data' DataFrame by multiple columns, which are 'StopName', 'WeekBeginning', and 'type'.\n",
    "# Then, aggregating the 'NumberOfBoardings' column using three aggregation functions: sum, count, and max.\n",
    "grouped = data.groupby(['StopName', 'WeekBeginning', 'type']).agg({'NumberOfBoardings': ['sum', 'count', 'max']})\n",
    "\n",
    "# Modifying the column names in the grouped DataFrame by joining them with underscores.\n",
    "# This is done to have a consistent naming convention for the resulting columns.\n",
    "grouped.columns = [\"_\".join(x) for x in grouped.columns.ravel()]"
   ]
  },
  {
   "cell_type": "code",
   "execution_count": 42,
   "id": "e99dda87",
   "metadata": {},
   "outputs": [
    {
     "data": {
      "text/html": [
       "<div>\n",
       "<style scoped>\n",
       "    .dataframe tbody tr th:only-of-type {\n",
       "        vertical-align: middle;\n",
       "    }\n",
       "\n",
       "    .dataframe tbody tr th {\n",
       "        vertical-align: top;\n",
       "    }\n",
       "\n",
       "    .dataframe thead th {\n",
       "        text-align: right;\n",
       "    }\n",
       "</style>\n",
       "<table border=\"1\" class=\"dataframe\">\n",
       "  <thead>\n",
       "    <tr style=\"text-align: right;\">\n",
       "      <th></th>\n",
       "      <th>StopName</th>\n",
       "      <th>WeekBeginning</th>\n",
       "      <th>type</th>\n",
       "      <th>NumberOfBoardings_sum</th>\n",
       "      <th>NumberOfBoardings_count</th>\n",
       "      <th>NumberOfBoardings_max</th>\n",
       "    </tr>\n",
       "  </thead>\n",
       "  <tbody>\n",
       "    <tr>\n",
       "      <th>0</th>\n",
       "      <td>181 Cross Rd</td>\n",
       "      <td>2013-06-30</td>\n",
       "      <td>street_address</td>\n",
       "      <td>89</td>\n",
       "      <td>31</td>\n",
       "      <td>21</td>\n",
       "    </tr>\n",
       "    <tr>\n",
       "      <th>1</th>\n",
       "      <td>181 Cross Rd</td>\n",
       "      <td>2013-07-07</td>\n",
       "      <td>street_address</td>\n",
       "      <td>48</td>\n",
       "      <td>25</td>\n",
       "      <td>5</td>\n",
       "    </tr>\n",
       "    <tr>\n",
       "      <th>2</th>\n",
       "      <td>181 Cross Rd</td>\n",
       "      <td>2013-07-14</td>\n",
       "      <td>street_address</td>\n",
       "      <td>47</td>\n",
       "      <td>24</td>\n",
       "      <td>7</td>\n",
       "    </tr>\n",
       "    <tr>\n",
       "      <th>3</th>\n",
       "      <td>181 Cross Rd</td>\n",
       "      <td>2013-07-21</td>\n",
       "      <td>street_address</td>\n",
       "      <td>77</td>\n",
       "      <td>24</td>\n",
       "      <td>13</td>\n",
       "    </tr>\n",
       "    <tr>\n",
       "      <th>4</th>\n",
       "      <td>181 Cross Rd</td>\n",
       "      <td>2013-07-28</td>\n",
       "      <td>street_address</td>\n",
       "      <td>90</td>\n",
       "      <td>28</td>\n",
       "      <td>17</td>\n",
       "    </tr>\n",
       "  </tbody>\n",
       "</table>\n",
       "</div>"
      ],
      "text/plain": [
       "       StopName WeekBeginning            type  NumberOfBoardings_sum  \\\n",
       "0  181 Cross Rd    2013-06-30  street_address                     89   \n",
       "1  181 Cross Rd    2013-07-07  street_address                     48   \n",
       "2  181 Cross Rd    2013-07-14  street_address                     47   \n",
       "3  181 Cross Rd    2013-07-21  street_address                     77   \n",
       "4  181 Cross Rd    2013-07-28  street_address                     90   \n",
       "\n",
       "   NumberOfBoardings_count  NumberOfBoardings_max  \n",
       "0                       31                     21  \n",
       "1                       25                      5  \n",
       "2                       24                      7  \n",
       "3                       24                     13  \n",
       "4                       28                     17  "
      ]
     },
     "execution_count": 42,
     "metadata": {},
     "output_type": "execute_result"
    }
   ],
   "source": [
    "# Create a DataFrame 'st_week_grp' by converting the 'grouped' data into a DataFrame and resetting the index.\n",
    "st_week_grp = pd.DataFrame(grouped).reset_index()\n",
    "\n",
    "# Retrieve the shape (number of rows and columns) of the 'st_week_grp' DataFrame and store it in a variable.\n",
    "shape = st_week_grp.shape\n",
    "\n",
    "# Display the first few rows of the 'st_week_grp' DataFrame to inspect the data.\n",
    "st_week_grp.head()"
   ]
  },
  {
   "cell_type": "code",
   "execution_count": 43,
   "id": "43961ddd",
   "metadata": {},
   "outputs": [],
   "source": [
    "# Creating a new DataFrame 'st_week_grp1' to store the results of grouping and counting operations.\n",
    "\n",
    "# Grouping the DataFrame 'st_week_grp' by the 'StopName' column and counting the occurrences of 'WeekBeginning' within each group.\n",
    "st_week_grp1 = pd.DataFrame(st_week_grp.groupby('StopName')['WeekBeginning'].count()).reset_index()\n",
    "\n",
    "# Resetting the index of the resulting DataFrame to make it more accessible and have a default numeric index."
   ]
  },
  {
   "cell_type": "code",
   "execution_count": 44,
   "id": "1b0e0aec",
   "metadata": {},
   "outputs": [],
   "source": [
    "# Extract a subset of data from the DataFrame 'st_week_grp1' where the 'WeekBeginning' column has a value of 54.\n",
    "# This filters rows that match the condition (e.g., WeekBeginning is 54).\n",
    "\n",
    "aa = list(st_week_grp1[st_week_grp1['WeekBeginning'] == 54]['StopName'])\n",
    "\n",
    "# Create a list ('aa') by extracting the values from the 'StopName' column in the filtered DataFrame.\n",
    "# This list contains the 'StopName' values for the rows where 'WeekBeginning' is equal to 54."
   ]
  },
  {
   "cell_type": "code",
   "execution_count": 45,
   "id": "fb999e1c",
   "metadata": {},
   "outputs": [],
   "source": [
    "# Filter the DataFrame 'st_week_grp' by selecting rows where the 'StopName' column matches values in the 'aa' variable.\n",
    "bb = st_week_grp[st_week_grp['StopName'].isin(aa)]\n"
   ]
  },
  {
   "cell_type": "code",
   "execution_count": 46,
   "id": "98df2b31",
   "metadata": {},
   "outputs": [],
   "source": [
    "# Using the 'to_csv' method to export the DataFrame 'bb' to a CSV file named 'st_week_grp.csv'.\n",
    "# The 'index' parameter is set to 'False' to prevent writing the DataFrame's index as a separate column in the CSV file.\n",
    "# This line of code saves the DataFrame 'bb' as a CSV file for data storage or sharing.\n",
    "\n",
    "bb.to_csv('st_week_grp.csv', index=False)"
   ]
  },
  {
   "cell_type": "code",
   "execution_count": 47,
   "id": "85ec69e4",
   "metadata": {},
   "outputs": [
    {
     "data": {
      "text/plain": [
       "TripID               3293\n",
       "RouteID                20\n",
       "StopID                963\n",
       "StopName              577\n",
       "WeekBeginning          54\n",
       "NumberOfBoardings     160\n",
       "holiday_label           3\n",
       "accuracy                1\n",
       "formatted_address       3\n",
       "google_place_id         3\n",
       "input_string            3\n",
       "latitude                3\n",
       "longitude               3\n",
       "number_of_results       1\n",
       "postcode                1\n",
       "status                  1\n",
       "type                    1\n",
       "dist_from_centre        3\n",
       "dtype: int64"
      ]
     },
     "execution_count": 47,
     "metadata": {},
     "output_type": "execute_result"
    }
   ],
   "source": [
    "# Using the Pandas DataFrame 'data' to perform a unique value count operation.\n",
    "# The method 'nunique()' is called on the DataFrame 'data' to count the number of unique values in each column.\n",
    "data.nunique()"
   ]
  },
  {
   "cell_type": "code",
   "execution_count": 48,
   "id": "9989968b",
   "metadata": {},
   "outputs": [
    {
     "data": {
      "text/plain": [
       "(1048575, 18)"
      ]
     },
     "execution_count": 48,
     "metadata": {},
     "output_type": "execute_result"
    },
    {
     "data": {
      "text/plain": [
       "Index(['TripID', 'RouteID', 'StopID', 'StopName', 'WeekBeginning',\n",
       "       'NumberOfBoardings', 'holiday_label', 'accuracy', 'formatted_address',\n",
       "       'google_place_id', 'input_string', 'latitude', 'longitude',\n",
       "       'number_of_results', 'postcode', 'status', 'type', 'dist_from_centre'],\n",
       "      dtype='object')"
      ]
     },
     "execution_count": 48,
     "metadata": {},
     "output_type": "execute_result"
    },
    {
     "data": {
      "text/html": [
       "<div>\n",
       "<style scoped>\n",
       "    .dataframe tbody tr th:only-of-type {\n",
       "        vertical-align: middle;\n",
       "    }\n",
       "\n",
       "    .dataframe tbody tr th {\n",
       "        vertical-align: top;\n",
       "    }\n",
       "\n",
       "    .dataframe thead th {\n",
       "        text-align: right;\n",
       "    }\n",
       "</style>\n",
       "<table border=\"1\" class=\"dataframe\">\n",
       "  <thead>\n",
       "    <tr style=\"text-align: right;\">\n",
       "      <th></th>\n",
       "      <th>TripID</th>\n",
       "      <th>RouteID</th>\n",
       "      <th>StopID</th>\n",
       "      <th>StopName</th>\n",
       "      <th>WeekBeginning</th>\n",
       "      <th>NumberOfBoardings</th>\n",
       "      <th>holiday_label</th>\n",
       "      <th>accuracy</th>\n",
       "      <th>formatted_address</th>\n",
       "      <th>google_place_id</th>\n",
       "      <th>input_string</th>\n",
       "      <th>latitude</th>\n",
       "      <th>longitude</th>\n",
       "      <th>number_of_results</th>\n",
       "      <th>postcode</th>\n",
       "      <th>status</th>\n",
       "      <th>type</th>\n",
       "      <th>dist_from_centre</th>\n",
       "    </tr>\n",
       "  </thead>\n",
       "  <tbody>\n",
       "    <tr>\n",
       "      <th>0</th>\n",
       "      <td>23631</td>\n",
       "      <td>100</td>\n",
       "      <td>14156</td>\n",
       "      <td>181 Cross Rd</td>\n",
       "      <td>2013-06-30</td>\n",
       "      <td>1</td>\n",
       "      <td>0</td>\n",
       "      <td>ROOFTOP</td>\n",
       "      <td>181 Cross Rd, Westbourne Park SA 5041, Australia</td>\n",
       "      <td>ChIJKT7I9rbPsGoRVHMHkIy-Oyk</td>\n",
       "      <td>181 Cross Rd</td>\n",
       "      <td>-34.966656</td>\n",
       "      <td>138.592148</td>\n",
       "      <td>1.0</td>\n",
       "      <td>5041</td>\n",
       "      <td>OK</td>\n",
       "      <td>street_address</td>\n",
       "      <td>5.180961</td>\n",
       "    </tr>\n",
       "    <tr>\n",
       "      <th>1</th>\n",
       "      <td>23631</td>\n",
       "      <td>100</td>\n",
       "      <td>14144</td>\n",
       "      <td>177 Cross Rd</td>\n",
       "      <td>2013-06-30</td>\n",
       "      <td>1</td>\n",
       "      <td>0</td>\n",
       "      <td>NaN</td>\n",
       "      <td>NaN</td>\n",
       "      <td>NaN</td>\n",
       "      <td>NaN</td>\n",
       "      <td>NaN</td>\n",
       "      <td>NaN</td>\n",
       "      <td>NaN</td>\n",
       "      <td>NaN</td>\n",
       "      <td>NaN</td>\n",
       "      <td>NaN</td>\n",
       "      <td>NaN</td>\n",
       "    </tr>\n",
       "    <tr>\n",
       "      <th>2</th>\n",
       "      <td>23632</td>\n",
       "      <td>100</td>\n",
       "      <td>14132</td>\n",
       "      <td>175 Cross Rd</td>\n",
       "      <td>2013-06-30</td>\n",
       "      <td>1</td>\n",
       "      <td>0</td>\n",
       "      <td>NaN</td>\n",
       "      <td>NaN</td>\n",
       "      <td>NaN</td>\n",
       "      <td>NaN</td>\n",
       "      <td>NaN</td>\n",
       "      <td>NaN</td>\n",
       "      <td>NaN</td>\n",
       "      <td>NaN</td>\n",
       "      <td>NaN</td>\n",
       "      <td>NaN</td>\n",
       "      <td>NaN</td>\n",
       "    </tr>\n",
       "  </tbody>\n",
       "</table>\n",
       "</div>"
      ],
      "text/plain": [
       "   TripID  RouteID  StopID      StopName WeekBeginning  NumberOfBoardings  \\\n",
       "0   23631      100   14156  181 Cross Rd    2013-06-30                  1   \n",
       "1   23631      100   14144  177 Cross Rd    2013-06-30                  1   \n",
       "2   23632      100   14132  175 Cross Rd    2013-06-30                  1   \n",
       "\n",
       "  holiday_label accuracy                                 formatted_address  \\\n",
       "0             0  ROOFTOP  181 Cross Rd, Westbourne Park SA 5041, Australia   \n",
       "1             0      NaN                                               NaN   \n",
       "2             0      NaN                                               NaN   \n",
       "\n",
       "               google_place_id  input_string   latitude   longitude  \\\n",
       "0  ChIJKT7I9rbPsGoRVHMHkIy-Oyk  181 Cross Rd -34.966656  138.592148   \n",
       "1                          NaN           NaN        NaN         NaN   \n",
       "2                          NaN           NaN        NaN         NaN   \n",
       "\n",
       "   number_of_results postcode status            type  dist_from_centre  \n",
       "0                1.0     5041     OK  street_address          5.180961  \n",
       "1                NaN      NaN    NaN             NaN               NaN  \n",
       "2                NaN      NaN    NaN             NaN               NaN  "
      ]
     },
     "execution_count": 48,
     "metadata": {},
     "output_type": "execute_result"
    }
   ],
   "source": [
    "data.shape\n",
    "data.columns\n",
    "data.head(3)"
   ]
  },
  {
   "cell_type": "code",
   "execution_count": 49,
   "id": "519907a9",
   "metadata": {},
   "outputs": [
    {
     "data": {
      "text/plain": [
       "TripID                     0\n",
       "RouteID                    0\n",
       "StopID                     0\n",
       "StopName                   0\n",
       "WeekBeginning              0\n",
       "NumberOfBoardings          0\n",
       "holiday_label              0\n",
       "accuracy             1044941\n",
       "formatted_address    1044941\n",
       "google_place_id      1044941\n",
       "input_string         1044941\n",
       "latitude             1044941\n",
       "longitude            1044941\n",
       "number_of_results    1044941\n",
       "postcode             1044941\n",
       "status               1044941\n",
       "type                 1044941\n",
       "dist_from_centre     1044941\n",
       "dtype: int64"
      ]
     },
     "execution_count": 49,
     "metadata": {},
     "output_type": "execute_result"
    }
   ],
   "source": [
    "# Using the 'isnull()' method to check for missing or NaN values in a DataFrame (assuming 'data' is a pandas DataFrame).\n",
    "data.isnull().sum()"
   ]
  },
  {
   "cell_type": "code",
   "execution_count": 50,
   "id": "dba63ca9",
   "metadata": {},
   "outputs": [
    {
     "name": "stdout",
     "output_type": "stream",
     "text": [
      "C:\\Users\\rayya\\OneDrive\\Desktop\\IBM Project\\20140711.CSV\n",
      "C:\\Users\\rayya\\OneDrive\\Desktop\\IBM Project\\archive.zip\n",
      "C:\\Users\\rayya\\OneDrive\\Desktop\\IBM Project\\output_geo.csv\n",
      "C:\\Users\\rayya\\OneDrive\\Desktop\\IBM Project\\Public Transport Boarding Summary by Route, Trip, Stop and Week of Year.doc\n",
      "C:\\Users\\rayya\\OneDrive\\Desktop\\IBM Project\\route.csv\n",
      "C:\\Users\\rayya\\OneDrive\\Desktop\\IBM Project\\st_week_grp.csv\n",
      "C:\\Users\\rayya\\OneDrive\\Desktop\\IBM Project\\Weekly_Boarding.csv\n"
     ]
    }
   ],
   "source": [
    "# Importing necessary libraries: 'numpy' as 'np' and 'pandas' as 'pd' to work with data efficiently.\n",
    "import numpy as np\n",
    "import pandas as pd\n",
    "\n",
    "# Importing the 'os' module to work with the file system.\n",
    "import os\n",
    "\n",
    "# Using a for loop to walk through the directory tree rooted at the specified directory path.\n",
    "# The 'os.walk' function generates the file names in a directory tree.\n",
    "for dirname, _, filenames in os.walk(\"C:\\\\Users\\\\rayya\\\\OneDrive\\\\Desktop\\\\IBM Project\"):\n",
    "    # Inside the first loop, iterate through the list of filenames.\n",
    "    for filename in filenames:\n",
    "        # Print the full path of each file in the directory.\n",
    "        print(os.path.join(dirname, filename))"
   ]
  },
  {
   "cell_type": "code",
   "execution_count": 51,
   "id": "3fcc3b61",
   "metadata": {},
   "outputs": [
    {
     "name": "stdout",
     "output_type": "stream",
     "text": [
      "TripID                 int64\n",
      "RouteID                int64\n",
      "StopID                 int64\n",
      "StopName              object\n",
      "WeekBeginning         object\n",
      "NumberOfBoardings      int64\n",
      "holiday_label         object\n",
      "accuracy              object\n",
      "formatted_address     object\n",
      "google_place_id       object\n",
      "input_string          object\n",
      "latitude             float64\n",
      "longitude            float64\n",
      "number_of_results    float64\n",
      "postcode              object\n",
      "status                object\n",
      "type                  object\n",
      "dist_from_centre     float64\n",
      "dtype: object\n"
     ]
    }
   ],
   "source": [
    "# Removing duplicate rows from the 'data' DataFrame.\n",
    "data = data.drop_duplicates()\n",
    "\n",
    "# Importing the Seaborn library, typically used for data visualization and plotting.\n",
    "import seaborn as sns\n",
    "\n",
    "# Printing the data types of each column in the 'data' DataFrame.\n",
    "print(data.dtypes)\n"
   ]
  },
  {
   "cell_type": "code",
   "execution_count": 52,
   "id": "1adbfdcb",
   "metadata": {},
   "outputs": [
    {
     "name": "stdout",
     "output_type": "stream",
     "text": [
      "Handle mixed data types\n",
      "(1048575, 18)\n"
     ]
    }
   ],
   "source": [
    "# Convert the 'accuracy' column in the 'data' DataFrame to numeric data type.\n",
    "data['accuracy'] = pd.to_numeric(data['accuracy'], errors='coerce')\n",
    "\n",
    "# Print a message indicating that mixed data types are being handled, which typically means converting non-numeric values to NaN (Not-a-Number).\n",
    "print(\"Handle mixed data types\")\n",
    "\n",
    "# Print the shape (number of rows and columns) of the 'data' DataFrame to show the result of the data type conversion.\n",
    "print(data.shape)\n"
   ]
  },
  {
   "cell_type": "code",
   "execution_count": 53,
   "id": "8e0ada38",
   "metadata": {},
   "outputs": [
    {
     "name": "stdout",
     "output_type": "stream",
     "text": [
      "\n",
      "Handle missing values\n",
      "(0, 18)\n"
     ]
    }
   ],
   "source": [
    "# Removing rows with missing values (NaN) from the 'data' DataFrame.\n",
    "data = data.dropna()\n",
    "\n",
    "# Printing a message indicating that missing values are being handled.\n",
    "print(\"\\nHandle missing values\")\n",
    "\n",
    "# Printing the shape (number of rows and columns) of the 'data' DataFrame after removing missing values.\n",
    "print(data.shape)\n"
   ]
  },
  {
   "cell_type": "code",
   "execution_count": 54,
   "id": "bbe1217d",
   "metadata": {},
   "outputs": [
    {
     "name": "stdout",
     "output_type": "stream",
     "text": [
      "\n",
      "Convert 'status' column to date format\n",
      "Series([], Name: status, dtype: datetime64[ns])\n"
     ]
    }
   ],
   "source": [
    "# Convert the 'status' column in the 'data' DataFrame to a datetime format.\n",
    "data['status'] = pd.to_datetime(data['status'], errors='coerce')\n",
    "\n",
    "# Print a message to indicate that the 'status' column is being converted to a datetime format.\n",
    "print(\"\\nConvert 'status' column to date format\")\n",
    "\n",
    "# Display the first few rows of the 'status' column after the conversion to check the result.\n",
    "print(data['status'].head())\n"
   ]
  },
  {
   "cell_type": "code",
   "execution_count": 55,
   "id": "fd6b6a9f",
   "metadata": {},
   "outputs": [
    {
     "data": {
      "text/html": [
       "<div>\n",
       "<style scoped>\n",
       "    .dataframe tbody tr th:only-of-type {\n",
       "        vertical-align: middle;\n",
       "    }\n",
       "\n",
       "    .dataframe tbody tr th {\n",
       "        vertical-align: top;\n",
       "    }\n",
       "\n",
       "    .dataframe thead th {\n",
       "        text-align: right;\n",
       "    }\n",
       "</style>\n",
       "<table border=\"1\" class=\"dataframe\">\n",
       "  <thead>\n",
       "    <tr style=\"text-align: right;\">\n",
       "      <th></th>\n",
       "      <th>TripID</th>\n",
       "      <th>RouteID</th>\n",
       "      <th>StopID</th>\n",
       "      <th>StopName</th>\n",
       "      <th>WeekBeginning</th>\n",
       "      <th>NumberOfBoardings</th>\n",
       "      <th>holiday_label</th>\n",
       "      <th>accuracy</th>\n",
       "      <th>formatted_address</th>\n",
       "      <th>google_place_id</th>\n",
       "      <th>input_string</th>\n",
       "      <th>latitude</th>\n",
       "      <th>longitude</th>\n",
       "      <th>number_of_results</th>\n",
       "      <th>postcode</th>\n",
       "      <th>status</th>\n",
       "      <th>type</th>\n",
       "      <th>dist_from_centre</th>\n",
       "    </tr>\n",
       "  </thead>\n",
       "  <tbody>\n",
       "  </tbody>\n",
       "</table>\n",
       "</div>"
      ],
      "text/plain": [
       "Empty DataFrame\n",
       "Columns: [TripID, RouteID, StopID, StopName, WeekBeginning, NumberOfBoardings, holiday_label, accuracy, formatted_address, google_place_id, input_string, latitude, longitude, number_of_results, postcode, status, type, dist_from_centre]\n",
       "Index: []"
      ]
     },
     "execution_count": 55,
     "metadata": {},
     "output_type": "execute_result"
    }
   ],
   "source": [
    "data.head(3)"
   ]
  },
  {
   "cell_type": "code",
   "execution_count": 56,
   "id": "7ce7c323",
   "metadata": {},
   "outputs": [
    {
     "name": "stdout",
     "output_type": "stream",
     "text": [
      "TripID               0\n",
      "RouteID              0\n",
      "StopID               0\n",
      "StopName             0\n",
      "WeekBeginning        0\n",
      "NumberOfBoardings    0\n",
      "holiday_label        0\n",
      "accuracy             0\n",
      "formatted_address    0\n",
      "google_place_id      0\n",
      "input_string         0\n",
      "latitude             0\n",
      "longitude            0\n",
      "number_of_results    0\n",
      "postcode             0\n",
      "status               0\n",
      "type                 0\n",
      "dist_from_centre     0\n",
      "dtype: int64\n"
     ]
    }
   ],
   "source": [
    "print(data.nunique())"
   ]
  },
  {
   "cell_type": "code",
   "execution_count": 57,
   "id": "4c8f3e83",
   "metadata": {},
   "outputs": [
    {
     "data": {
      "text/plain": [
       "(0, 18)"
      ]
     },
     "execution_count": 57,
     "metadata": {},
     "output_type": "execute_result"
    },
    {
     "data": {
      "text/plain": [
       "Index(['TripID', 'RouteID', 'StopID', 'StopName', 'WeekBeginning',\n",
       "       'NumberOfBoardings', 'holiday_label', 'accuracy', 'formatted_address',\n",
       "       'google_place_id', 'input_string', 'latitude', 'longitude',\n",
       "       'number_of_results', 'postcode', 'status', 'type', 'dist_from_centre'],\n",
       "      dtype='object')"
      ]
     },
     "execution_count": 57,
     "metadata": {},
     "output_type": "execute_result"
    },
    {
     "data": {
      "text/html": [
       "<div>\n",
       "<style scoped>\n",
       "    .dataframe tbody tr th:only-of-type {\n",
       "        vertical-align: middle;\n",
       "    }\n",
       "\n",
       "    .dataframe tbody tr th {\n",
       "        vertical-align: top;\n",
       "    }\n",
       "\n",
       "    .dataframe thead th {\n",
       "        text-align: right;\n",
       "    }\n",
       "</style>\n",
       "<table border=\"1\" class=\"dataframe\">\n",
       "  <thead>\n",
       "    <tr style=\"text-align: right;\">\n",
       "      <th></th>\n",
       "      <th>TripID</th>\n",
       "      <th>RouteID</th>\n",
       "      <th>StopID</th>\n",
       "      <th>StopName</th>\n",
       "      <th>WeekBeginning</th>\n",
       "      <th>NumberOfBoardings</th>\n",
       "      <th>holiday_label</th>\n",
       "      <th>accuracy</th>\n",
       "      <th>formatted_address</th>\n",
       "      <th>google_place_id</th>\n",
       "      <th>input_string</th>\n",
       "      <th>latitude</th>\n",
       "      <th>longitude</th>\n",
       "      <th>number_of_results</th>\n",
       "      <th>postcode</th>\n",
       "      <th>status</th>\n",
       "      <th>type</th>\n",
       "      <th>dist_from_centre</th>\n",
       "    </tr>\n",
       "  </thead>\n",
       "  <tbody>\n",
       "  </tbody>\n",
       "</table>\n",
       "</div>"
      ],
      "text/plain": [
       "Empty DataFrame\n",
       "Columns: [TripID, RouteID, StopID, StopName, WeekBeginning, NumberOfBoardings, holiday_label, accuracy, formatted_address, google_place_id, input_string, latitude, longitude, number_of_results, postcode, status, type, dist_from_centre]\n",
       "Index: []"
      ]
     },
     "execution_count": 57,
     "metadata": {},
     "output_type": "execute_result"
    }
   ],
   "source": [
    "data.shape\n",
    "data.columns\n",
    "data.head(3)"
   ]
  },
  {
   "cell_type": "code",
   "execution_count": 58,
   "id": "a8bdbf07",
   "metadata": {},
   "outputs": [
    {
     "data": {
      "text/plain": [
       "TripID               0.0\n",
       "RouteID              0.0\n",
       "StopID               0.0\n",
       "StopName             0.0\n",
       "WeekBeginning        0.0\n",
       "NumberOfBoardings    0.0\n",
       "holiday_label        0.0\n",
       "accuracy             0.0\n",
       "formatted_address    0.0\n",
       "google_place_id      0.0\n",
       "input_string         0.0\n",
       "latitude             0.0\n",
       "longitude            0.0\n",
       "number_of_results    0.0\n",
       "postcode             0.0\n",
       "status               0.0\n",
       "type                 0.0\n",
       "dist_from_centre     0.0\n",
       "dtype: float64"
      ]
     },
     "execution_count": 58,
     "metadata": {},
     "output_type": "execute_result"
    }
   ],
   "source": [
    "data.isnull().sum()"
   ]
  },
  {
   "cell_type": "code",
   "execution_count": 59,
   "id": "6ebe55c9",
   "metadata": {},
   "outputs": [
    {
     "name": "stdout",
     "output_type": "stream",
     "text": [
      "\n",
      "Save the cleaned dataset to a new CSV file\n",
      "Cleaned dataset saved successfully.\n"
     ]
    }
   ],
   "source": [
    "data.to_csv('cleaned_data.csv', index=False)\n",
    "print(\"\\nSave the cleaned dataset to a new CSV file\")\n",
    "print(\"Cleaned dataset saved successfully.\")"
   ]
  }
 ],
 "metadata": {
  "kernelspec": {
   "display_name": "Python 3 (ipykernel)",
   "language": "python",
   "name": "python3"
  },
  "language_info": {
   "codemirror_mode": {
    "name": "ipython",
    "version": 3
   },
   "file_extension": ".py",
   "mimetype": "text/x-python",
   "name": "python",
   "nbconvert_exporter": "python",
   "pygments_lexer": "ipython3",
   "version": "3.11.5"
  }
 },
 "nbformat": 4,
 "nbformat_minor": 5
}
